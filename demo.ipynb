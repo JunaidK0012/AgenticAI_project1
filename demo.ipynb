{
 "cells": [
  {
   "cell_type": "code",
   "execution_count": 1,
   "id": "2332a3ec",
   "metadata": {},
   "outputs": [],
   "source": [
    "from langchain_google_genai import ChatGoogleGenerativeAI\n",
    "from langgraph.graph import StateGraph,START,END\n",
    "from langchain_core.tools import tool\n",
    "from typing import TypedDict,Annotated\n",
    "from langgraph.prebuilt import ToolNode,tools_condition\n",
    "from langchain_core.messages import HumanMessage,BaseMessage\n",
    "from langgraph.graph.message import add_messages\n",
    "from dotenv import load_dotenv\n",
    "from langchain_core.messages import HumanMessage,AIMessage,SystemMessage\n",
    "from langchain_core.prompts import ChatPromptTemplate, MessagesPlaceholder\n",
    "from langgraph.checkpoint.memory import InMemorySaver\n",
    "from langgraph.types import Command\n"
   ]
  },
  {
   "cell_type": "code",
   "execution_count": 2,
   "id": "7bf7736f",
   "metadata": {},
   "outputs": [
    {
     "data": {
      "text/plain": [
       "True"
      ]
     },
     "execution_count": 2,
     "metadata": {},
     "output_type": "execute_result"
    }
   ],
   "source": [
    "load_dotenv()"
   ]
  },
  {
   "cell_type": "code",
   "execution_count": 3,
   "id": "cce21f71",
   "metadata": {},
   "outputs": [],
   "source": [
    "# web search tool \n",
    "from langchain_tavily import TavilySearch\n",
    "web_search_tool = TavilySearch(max_results=2)"
   ]
  },
  {
   "cell_type": "code",
   "execution_count": 4,
   "id": "9628b7ff",
   "metadata": {},
   "outputs": [],
   "source": [
    "# File management tool\n",
    "from langchain_community.agent_toolkits import FileManagementToolkit\n",
    "\n",
    "working_directory = './files'\n",
    "\n",
    "file_management_tools =FileManagementToolkit(\n",
    "    root_dir=str(working_directory),\n",
    "    selected_tools=[\"read_file\", \"write_file\", \"list_directory\"]\n",
    ").get_tools()\n",
    "\n",
    "\n",
    "read_tool, write_tool, list_tool = file_management_tools"
   ]
  },
  {
   "cell_type": "code",
   "execution_count": 5,
   "id": "3b431f76",
   "metadata": {},
   "outputs": [],
   "source": [
    "from langchain_core.tools import BaseTool,tool\n",
    "from langgraph.prebuilt.interrupt import HumanInterruptConfig,HumanInterrupt\n",
    "from langchain_core.runnables import RunnableConfig\n",
    "from langgraph.types import interrupt"
   ]
  },
  {
   "cell_type": "code",
   "execution_count": 6,
   "id": "05944243",
   "metadata": {},
   "outputs": [],
   "source": [
    "def add_human_in_the_loop(toolhitl,interrupt_config: HumanInterruptConfig = None) -> BaseTool:\n",
    "    \"\"\"Wrap a tool to support human-in-the-loop review.\"\"\"\n",
    "\n",
    "    if not isinstance(toolhitl, BaseTool):\n",
    "        toolhitl = tool(toolhitl)\n",
    "\n",
    "    if interrupt_config is None:\n",
    "        interrupt_config = {\n",
    "            \"allow_accept\":True,\n",
    "            \"allow_edit\": True,\n",
    "            \"allow_respond\":True\n",
    "        }\n",
    "\n",
    "    @tool(toolhitl.name,description=toolhitl.description,args_schema=toolhitl.args_schema)\n",
    "    def call_tool_with_interrupt(config: RunnableConfig, **tool_input):\n",
    "        request: HumanInterrupt = {\n",
    "            'action_request':{\n",
    "                \"action\":toolhitl.name,\n",
    "                \"args\":tool_input\n",
    "            },\n",
    "            \"config\":interrupt_config,\n",
    "            \"description\": \"Please review the tool call\"\n",
    "        }\n",
    "\n",
    "        response = interrupt([request])[0]\n",
    "\n",
    "        # approve the tool call\n",
    "        if response[\"type\"] == \"accept\":\n",
    "            tool_response = toolhitl.invoke(tool_input, config)\n",
    "        # update tool call args\n",
    "        elif response[\"type\"] == \"edit\":\n",
    "            tool_input = response[\"args\"][\"args\"]\n",
    "            tool_response = toolhitl.invoke(tool_input, config)\n",
    "        # respond to the LLM with user feedback\n",
    "        elif response[\"type\"] == \"response\":\n",
    "            user_feedback = response[\"args\"]\n",
    "            tool_response = user_feedback\n",
    "        else:\n",
    "            raise ValueError(f\"Unsupported interrupt response type: {response['type']}\")\n",
    "\n",
    "        return tool_response\n",
    "    \n",
    "    return call_tool_with_interrupt\n",
    "\n",
    "\n"
   ]
  },
  {
   "cell_type": "code",
   "execution_count": 7,
   "id": "a5d45ee7",
   "metadata": {},
   "outputs": [],
   "source": [
    "#arxiv\n",
    "import arxiv\n",
    "\n",
    "@tool(\"arxiv_search\")\n",
    "def arxiv_search(query: str,max_results: int = 5) -> str:\n",
    "    \"\"\"\n",
    "    Searches arXiv for papers matching the query.\n",
    "    - query: keywords, authors or title\n",
    "    - max_results: number of papers to return\n",
    "    \"\"\"\n",
    "    try:\n",
    "        search = arxiv.Search(\n",
    "            query=query,\n",
    "            max_results=max_results,\n",
    "            sort_by=arxiv.SortCriterion.Relevance\n",
    "        )\n",
    "        papers = []\n",
    "        for result in search.results():\n",
    "            pdf_url = result.pdf_url if hasattr(result,\"pdf_url\") else result.entry_id.replace(\"abs\",\"pdf\")\n",
    "            papers.append(\n",
    "                f\"Title: {result.title}\\n\"\n",
    "                f\"Authors: {','.join(a.name for a in result.authors)}\\n\"\n",
    "                f'Published: {result.published.date()}\\n'\n",
    "                f\"Abstract: {result.summary.strip()}\\n\"\n",
    "                f\"Link: {result.entry_id}\\n\"\n",
    "                f\"PDF: {pdf_url}\\n\"\n",
    "                + \"-\"*80\n",
    "\n",
    "            )\n",
    "        if not papers:\n",
    "            return f\"No results found for '{query}\"\n",
    "        return \"\\n\".join(papers)\n",
    "    except Exception as e:\n",
    "        return f\"Error during arXiv search: {e}\"\n",
    "    \n",
    "\n"
   ]
  },
  {
   "cell_type": "code",
   "execution_count": 8,
   "id": "4bee6a4c",
   "metadata": {},
   "outputs": [
    {
     "name": "stderr",
     "output_type": "stream",
     "text": [
      "C:\\Users\\JunaidKhan\\AppData\\Local\\Temp\\ipykernel_13204\\2627632007.py:1: LangChainDeprecationWarning: The method `BaseTool.__call__` was deprecated in langchain-core 0.1.47 and will be removed in 1.0. Use :meth:`~invoke` instead.\n",
      "  result = arxiv_search(\"Quantum Machine Learning\")\n",
      "C:\\Users\\JunaidKhan\\AppData\\Local\\Temp\\ipykernel_13204\\2323917343.py:18: DeprecationWarning: The 'Search.results' method is deprecated, use 'Client.results' instead\n",
      "  for result in search.results():\n"
     ]
    }
   ],
   "source": [
    "result = arxiv_search(\"Quantum Machine Learning\")"
   ]
  },
  {
   "cell_type": "code",
   "execution_count": 9,
   "id": "be0cb395",
   "metadata": {},
   "outputs": [],
   "source": [
    "#wikipedia\n",
    "from langchain_community.tools import WikipediaQueryRun\n",
    "from langchain_community.utilities import WikipediaAPIWrapper\n",
    "wikipedia_tool = WikipediaQueryRun(api_wrapper=WikipediaAPIWrapper(load_all_available_meta=True))"
   ]
  },
  {
   "cell_type": "code",
   "execution_count": 10,
   "id": "fa930a5d",
   "metadata": {},
   "outputs": [],
   "source": [
    "#youtube\n",
    "from langchain_community.tools import YouTubeSearchTool\n",
    "youtube_tool = YouTubeSearchTool()"
   ]
  },
  {
   "cell_type": "code",
   "execution_count": 11,
   "id": "243a1f68",
   "metadata": {},
   "outputs": [],
   "source": [
    "# tools\n",
    "tools = [arxiv_search,wikipedia_tool,youtube_tool,read_tool, add_human_in_the_loop(write_tool), list_tool,web_search_tool]"
   ]
  },
  {
   "cell_type": "code",
   "execution_count": 12,
   "id": "be4a34ae",
   "metadata": {},
   "outputs": [],
   "source": [
    "#llm\n",
    "llm = ChatGoogleGenerativeAI(model = 'gemini-2.5-flash')\n",
    "llm_with_tools = llm.bind_tools(tools)\n"
   ]
  },
  {
   "cell_type": "markdown",
   "id": "d93797cc",
   "metadata": {},
   "source": [
    "GRAPH BUILDING"
   ]
  },
  {
   "cell_type": "code",
   "execution_count": 13,
   "id": "52228cf1",
   "metadata": {},
   "outputs": [],
   "source": [
    "class State(TypedDict):\n",
    "    messages : Annotated[list[BaseMessage],add_messages]"
   ]
  },
  {
   "cell_type": "code",
   "execution_count": 14,
   "id": "17e79e2f",
   "metadata": {},
   "outputs": [],
   "source": [
    "system_prompt = \"\"\" \n",
    "You are a reasoning agent that uses tools to answer questions.\n",
    "You must always follow the Thought → Action → Action Input → Observation loop.\n",
    "\n",
    "\"\"\""
   ]
  },
  {
   "cell_type": "code",
   "execution_count": 15,
   "id": "aa66dd38",
   "metadata": {},
   "outputs": [],
   "source": [
    "def planner_node(state):\n",
    "    user_query = state['messages']\n",
    "\n",
    "    planner_prompt = ChatPromptTemplate([\n",
    "        ('system',system_prompt),\n",
    "        MessagesPlaceholder(variable_name='messages')\n",
    "    ])\n",
    "\n",
    "    planner = planner_prompt | llm_with_tools\n",
    "    result = planner.invoke({'messages': state['messages']})\n",
    "    print(result)\n",
    "\n",
    "    return ({'messages':result}) \n",
    "    "
   ]
  },
  {
   "cell_type": "code",
   "execution_count": 16,
   "id": "772b7662",
   "metadata": {},
   "outputs": [],
   "source": [
    "graph = StateGraph(State)\n",
    "checkpointer = InMemorySaver()\n",
    "tool_node = ToolNode(tools)\n",
    "graph.add_node('planner_node',planner_node)\n",
    "graph.add_node('tools',tool_node)\n",
    "\n",
    "graph.add_edge(START,'planner_node')\n",
    "graph.add_conditional_edges('planner_node',tools_condition)\n",
    "graph.add_edge('tools','planner_node')\n",
    "graph = graph.compile(checkpointer=checkpointer)"
   ]
  },
  {
   "cell_type": "code",
   "execution_count": 17,
   "id": "abe89fd9",
   "metadata": {},
   "outputs": [
    {
     "data": {
      "image/png": "[encoded data removed]",
      "text/plain": [
       "<IPython.core.display.Image object>"
      ]
     },
     "metadata": {},
     "output_type": "display_data"
    }
   ],
   "source": [
    "from IPython.display import Image, display\n",
    "\n",
    "display(Image(graph.get_graph().draw_mermaid_png()))"
   ]
  },
  {
   "cell_type": "code",
   "execution_count": 18,
   "id": "d733a07d",
   "metadata": {},
   "outputs": [],
   "source": [
    "initial_state = {\n",
    "    \"messages\": [HumanMessage(content=\"save a python code to find if the number is even or odd\")]\n",
    "}\n",
    "\n",
    "config = {\"configurable\": {\"thread_id\": \"890\"}}"
   ]
  },
  {
   "cell_type": "code",
   "execution_count": 19,
   "id": "23044bf5",
   "metadata": {},
   "outputs": [
    {
     "name": "stdout",
     "output_type": "stream",
     "text": [
      "content='' additional_kwargs={'function_call': {'name': 'write_file', 'arguments': '{\"file_path\": \"even_odd.py\", \"text\": \"\\\\ndef check_even_odd(number):\\\\n    if number % 2 == 0:\\\\n        return \\\\\"Even\\\\\"\\\\n    else:\\\\n        return \\\\\"Odd\\\\\"\\\\n\\\\n# Example usage:\\\\nnum = int(input(\\\\\"Enter a number: \\\\\"))\\\\nresult = check_even_odd(num)\\\\nprint(f\\\\\"The number {num} is {result}.\\\\\")\\\\n\"}'}} response_metadata={'prompt_feedback': {'block_reason': 0, 'safety_ratings': []}, 'finish_reason': 'STOP', 'model_name': 'gemini-2.5-flash', 'safety_ratings': []} id='run--dd50e8c0-cc58-4d27-8bd4-2a973f862a7e-0' tool_calls=[{'name': 'write_file', 'args': {'file_path': 'even_odd.py', 'text': '\\ndef check_even_odd(number):\\n    if number % 2 == 0:\\n        return \"Even\"\\n    else:\\n        return \"Odd\"\\n\\n# Example usage:\\nnum = int(input(\"Enter a number: \"))\\nresult = check_even_odd(num)\\nprint(f\"The number {num} is {result}.\")\\n'}, 'id': '32487d2a-80a2-46cb-b5b9-5f89bfc37bd1', 'type': 'tool_call'}] usage_metadata={'input_tokens': 1696, 'output_tokens': 168, 'total_tokens': 1864, 'input_token_details': {'cache_read': 0}, 'output_token_details': {'reasoning': 57}}\n"
     ]
    }
   ],
   "source": [
    "# Run the agent\n",
    "chunk =  graph.invoke(\n",
    "    initial_state,\n",
    "    config\n",
    ")"
   ]
  },
  {
   "cell_type": "code",
   "execution_count": 20,
   "id": "bcc86eff",
   "metadata": {},
   "outputs": [
    {
     "data": {
      "text/plain": [
       "''"
      ]
     },
     "execution_count": 20,
     "metadata": {},
     "output_type": "execute_result"
    }
   ],
   "source": [
    "chunk['messages'][-1].content"
   ]
  },
  {
   "cell_type": "code",
   "execution_count": 21,
   "id": "4958f967",
   "metadata": {},
   "outputs": [
    {
     "data": {
      "text/plain": [
       "{'messages': [HumanMessage(content='save a python code to find if the number is even or odd', additional_kwargs={}, response_metadata={}, id='c6660707-3dc1-4442-bbaa-0111e085a1a1'),\n",
       "  AIMessage(content='', additional_kwargs={'function_call': {'name': 'write_file', 'arguments': '{\"file_path\": \"even_odd.py\", \"text\": \"\\\\ndef check_even_odd(number):\\\\n    if number % 2 == 0:\\\\n        return \\\\\"Even\\\\\"\\\\n    else:\\\\n        return \\\\\"Odd\\\\\"\\\\n\\\\n# Example usage:\\\\nnum = int(input(\\\\\"Enter a number: \\\\\"))\\\\nresult = check_even_odd(num)\\\\nprint(f\\\\\"The number {num} is {result}.\\\\\")\\\\n\"}'}}, response_metadata={'prompt_feedback': {'block_reason': 0, 'safety_ratings': []}, 'finish_reason': 'STOP', 'model_name': 'gemini-2.5-flash', 'safety_ratings': []}, id='run--dd50e8c0-cc58-4d27-8bd4-2a973f862a7e-0', tool_calls=[{'name': 'write_file', 'args': {'file_path': 'even_odd.py', 'text': '\\ndef check_even_odd(number):\\n    if number % 2 == 0:\\n        return \"Even\"\\n    else:\\n        return \"Odd\"\\n\\n# Example usage:\\nnum = int(input(\"Enter a number: \"))\\nresult = check_even_odd(num)\\nprint(f\"The number {num} is {result}.\")\\n'}, 'id': '32487d2a-80a2-46cb-b5b9-5f89bfc37bd1', 'type': 'tool_call'}], usage_metadata={'input_tokens': 1696, 'output_tokens': 168, 'total_tokens': 1864, 'input_token_details': {'cache_read': 0}, 'output_token_details': {'reasoning': 57}})],\n",
       " '__interrupt__': [Interrupt(value=[{'action_request': {'action': 'write_file', 'args': {'file_path': 'even_odd.py', 'text': '\\ndef check_even_odd(number):\\n    if number % 2 == 0:\\n        return \"Even\"\\n    else:\\n        return \"Odd\"\\n\\n# Example usage:\\nnum = int(input(\"Enter a number: \"))\\nresult = check_even_odd(num)\\nprint(f\"The number {num} is {result}.\")\\n'}}, 'config': {'allow_accept': True, 'allow_edit': True, 'allow_respond': True}, 'description': 'Please review the tool call'}], id='1f76cff64de7563187686fe29b5cf1a4')]}"
      ]
     },
     "execution_count": 21,
     "metadata": {},
     "output_type": "execute_result"
    }
   ],
   "source": [
    "chunk"
   ]
  },
  {
   "cell_type": "code",
   "execution_count": 22,
   "id": "89815fd7",
   "metadata": {},
   "outputs": [
    {
     "name": "stdout",
     "output_type": "stream",
     "text": [
      "{'tools': {'messages': [ToolMessage(content=\"Error: ValueError('Unsupported interrupt response type: no')\\n Please fix your mistakes.\", name='write_file', id='eb3570cb-6937-4329-9c63-5eb90e5d8038', tool_call_id='32487d2a-80a2-46cb-b5b9-5f89bfc37bd1', status='error')]}}\n",
      "\n",
      "\n",
      "content='' additional_kwargs={'function_call': {'name': 'write_file', 'arguments': '{\"file_path\": \"even_odd.py\", \"text\": \"\\\\ndef check_even_odd(number):\\\\n    if number % 2 == 0:\\\\n        return \\\\\"Even\\\\\"\\\\n    else:\\\\n        return \\\\\"Odd\\\\\"\\\\n\\\\n# Example usage:\\\\nnum = int(input(\\\\\"Enter a number: \\\\\"))\\\\nresult = check_even_odd(num)\\\\nprint(f\\\\\"The number {num} is {result}.\\\\\")\\\\n\"}'}} response_metadata={'prompt_feedback': {'block_reason': 0, 'safety_ratings': []}, 'finish_reason': 'STOP', 'model_name': 'gemini-2.5-flash', 'safety_ratings': []} id='run--51822d3f-1691-4976-b7ca-72495f1d816a-0' tool_calls=[{'name': 'write_file', 'args': {'file_path': 'even_odd.py', 'text': '\\ndef check_even_odd(number):\\n    if number % 2 == 0:\\n        return \"Even\"\\n    else:\\n        return \"Odd\"\\n\\n# Example usage:\\nnum = int(input(\"Enter a number: \"))\\nresult = check_even_odd(num)\\nprint(f\"The number {num} is {result}.\")\\n'}, 'id': 'e2514bdc-1e3f-414d-8aa7-cda05c9db646', 'type': 'tool_call'}] usage_metadata={'input_tokens': 1841, 'output_tokens': 471, 'total_tokens': 2312, 'input_token_details': {'cache_read': 0}, 'output_token_details': {'reasoning': 360}}\n",
      "{'planner_node': {'messages': AIMessage(content='', additional_kwargs={'function_call': {'name': 'write_file', 'arguments': '{\"file_path\": \"even_odd.py\", \"text\": \"\\\\ndef check_even_odd(number):\\\\n    if number % 2 == 0:\\\\n        return \\\\\"Even\\\\\"\\\\n    else:\\\\n        return \\\\\"Odd\\\\\"\\\\n\\\\n# Example usage:\\\\nnum = int(input(\\\\\"Enter a number: \\\\\"))\\\\nresult = check_even_odd(num)\\\\nprint(f\\\\\"The number {num} is {result}.\\\\\")\\\\n\"}'}}, response_metadata={'prompt_feedback': {'block_reason': 0, 'safety_ratings': []}, 'finish_reason': 'STOP', 'model_name': 'gemini-2.5-flash', 'safety_ratings': []}, id='run--51822d3f-1691-4976-b7ca-72495f1d816a-0', tool_calls=[{'name': 'write_file', 'args': {'file_path': 'even_odd.py', 'text': '\\ndef check_even_odd(number):\\n    if number % 2 == 0:\\n        return \"Even\"\\n    else:\\n        return \"Odd\"\\n\\n# Example usage:\\nnum = int(input(\"Enter a number: \"))\\nresult = check_even_odd(num)\\nprint(f\"The number {num} is {result}.\")\\n'}, 'id': 'e2514bdc-1e3f-414d-8aa7-cda05c9db646', 'type': 'tool_call'}], usage_metadata={'input_tokens': 1841, 'output_tokens': 471, 'total_tokens': 2312, 'input_token_details': {'cache_read': 0}, 'output_token_details': {'reasoning': 360}})}}\n",
      "\n",
      "\n",
      "{'__interrupt__': (Interrupt(value=[{'action_request': {'action': 'write_file', 'args': {'file_path': 'even_odd.py', 'text': '\\ndef check_even_odd(number):\\n    if number % 2 == 0:\\n        return \"Even\"\\n    else:\\n        return \"Odd\"\\n\\n# Example usage:\\nnum = int(input(\"Enter a number: \"))\\nresult = check_even_odd(num)\\nprint(f\"The number {num} is {result}.\")\\n'}}, 'config': {'allow_accept': True, 'allow_edit': True, 'allow_respond': True}, 'description': 'Please review the tool call'}], id='57d7f9015a9013ae57e20982dadf1889'),)}\n",
      "\n",
      "\n"
     ]
    }
   ],
   "source": [
    "from langgraph.types import Command\n",
    "user_input = input(\"Do you accept: ?\")\n",
    "\n",
    "for chunk in graph.stream(\n",
    "    Command(resume=[{\"type\": user_input}]),\n",
    "    config\n",
    "):\n",
    "    print(chunk)\n",
    "    print(\"\\n\")"
   ]
  },
  {
   "cell_type": "code",
   "execution_count": null,
   "id": "0f4dc897",
   "metadata": {},
   "outputs": [],
   "source": []
  }
 ],
 "metadata": {
  "kernelspec": {
   "display_name": "myenv (3.12.4)",
   "language": "python",
   "name": "python3"
  },
  "language_info": {
   "codemirror_mode": {
    "name": "ipython",
    "version": 3
   },
   "file_extension": ".py",
   "mimetype": "text/x-python",
   "name": "python",
   "nbconvert_exporter": "python",
   "pygments_lexer": "ipython3",
   "version": "3.12.4"
  }
 },
 "nbformat": 4,
 "nbformat_minor": 5
}
