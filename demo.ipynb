{
 "cells": [
  {
   "cell_type": "code",
   "execution_count": 1,
   "id": "2332a3ec",
   "metadata": {},
   "outputs": [],
   "source": [
    "from langchain_google_genai import ChatGoogleGenerativeAI\n",
    "from langgraph.graph import StateGraph,START,END\n",
    "from langchain_core.tools import tool\n",
    "from typing import TypedDict,Annotated\n",
    "from langgraph.prebuilt import ToolNode,tools_condition\n",
    "from langchain_core.messages import HumanMessage,BaseMessage\n",
    "from langgraph.graph.message import add_messages\n",
    "from dotenv import load_dotenv\n",
    "from langchain_core.messages import HumanMessage,AIMessage,SystemMessage,ToolMessage\n",
    "from langchain_core.prompts import ChatPromptTemplate, MessagesPlaceholder\n",
    "from langgraph.checkpoint.memory import InMemorySaver\n",
    "from langgraph.types import Command\n"
   ]
  },
  {
   "cell_type": "code",
   "execution_count": 2,
   "id": "7bf7736f",
   "metadata": {},
   "outputs": [
    {
     "data": {
      "text/plain": [
       "True"
      ]
     },
     "execution_count": 2,
     "metadata": {},
     "output_type": "execute_result"
    }
   ],
   "source": [
    "load_dotenv()"
   ]
  },
  {
   "cell_type": "code",
   "execution_count": 3,
   "id": "cce21f71",
   "metadata": {},
   "outputs": [],
   "source": [
    "# web search tool \n",
    "from langchain_tavily import TavilySearch\n",
    "web_search_tool = TavilySearch(max_results=2)"
   ]
  },
  {
   "cell_type": "code",
   "execution_count": 4,
   "id": "9628b7ff",
   "metadata": {},
   "outputs": [],
   "source": [
    "# File management tool\n",
    "from langchain_community.agent_toolkits import FileManagementToolkit\n",
    "\n",
    "working_directory = './files'\n",
    "\n",
    "file_management_tools =FileManagementToolkit(\n",
    "    root_dir=str(working_directory),\n",
    "    selected_tools=[\"read_file\", \"write_file\", \"list_directory\"]\n",
    ").get_tools()\n",
    "\n",
    "\n",
    "read_tool, write_tool, list_tool = file_management_tools"
   ]
  },
  {
   "cell_type": "code",
   "execution_count": 5,
   "id": "3b431f76",
   "metadata": {},
   "outputs": [],
   "source": [
    "from langchain_core.tools import BaseTool,tool\n",
    "from langgraph.prebuilt.interrupt import HumanInterruptConfig,HumanInterrupt\n",
    "from langchain_core.runnables import RunnableConfig\n",
    "from langgraph.types import interrupt"
   ]
  },
  {
   "cell_type": "code",
   "execution_count": 6,
   "id": "05944243",
   "metadata": {},
   "outputs": [],
   "source": [
    "def add_human_in_the_loop(toolhitl,interrupt_config: HumanInterruptConfig = None) -> BaseTool:\n",
    "    \"\"\"Wrap a tool to support human-in-the-loop review.\"\"\"\n",
    "\n",
    "    if not isinstance(toolhitl, BaseTool):\n",
    "        toolhitl = tool(toolhitl)\n",
    "\n",
    "    if interrupt_config is None:\n",
    "        interrupt_config = {\n",
    "            \"allow_accept\":True,\n",
    "            \"allow_edit\": True,\n",
    "            \"allow_respond\":True\n",
    "        }\n",
    "\n",
    "    @tool(toolhitl.name,description=toolhitl.description,args_schema=toolhitl.args_schema)\n",
    "    def call_tool_with_interrupt(config: RunnableConfig, **tool_input):\n",
    "        request: HumanInterrupt = {\n",
    "            'action_request':{\n",
    "                \"action\":toolhitl.name,\n",
    "                \"args\":tool_input\n",
    "            },\n",
    "            \"config\":interrupt_config,\n",
    "            \"description\": \"Please review the tool call\"\n",
    "        }\n",
    "\n",
    "        response = interrupt([request])[0]\n",
    "\n",
    "        # approve the tool call\n",
    "        if response[\"type\"] == \"accept\":\n",
    "            tool_response = toolhitl.invoke(tool_input, config)\n",
    "        # update tool call args\n",
    "        elif response[\"type\"] == \"edit\":\n",
    "            tool_input = response[\"args\"][\"args\"]\n",
    "            tool_response = toolhitl.invoke(tool_input, config)\n",
    "        # respond to the LLM with user feedback\n",
    "        elif response[\"type\"] == \"response\":\n",
    "            user_feedback = response[\"args\"]\n",
    "            tool_response = user_feedback\n",
    "        else:\n",
    "            raise ValueError(f\"Unsupported interrupt response type: {response['type']}\")\n",
    "\n",
    "        return tool_response\n",
    "    \n",
    "    return call_tool_with_interrupt\n",
    "\n",
    "\n"
   ]
  },
  {
   "cell_type": "code",
   "execution_count": 7,
   "id": "a5d45ee7",
   "metadata": {},
   "outputs": [],
   "source": [
    "#arxiv\n",
    "import arxiv\n",
    "\n",
    "@tool(\"arxiv_search\")\n",
    "def arxiv_search(query: str,max_results: int = 5) -> str:\n",
    "    \"\"\"\n",
    "    Searches arXiv for papers matching the query.\n",
    "    - query: keywords, authors or title\n",
    "    - max_results: number of papers to return\n",
    "    \"\"\"\n",
    "    try:\n",
    "        search = arxiv.Search(\n",
    "            query=query,\n",
    "            max_results=max_results,\n",
    "            sort_by=arxiv.SortCriterion.Relevance\n",
    "        )\n",
    "        papers = []\n",
    "        for result in search.results():\n",
    "            pdf_url = result.pdf_url if hasattr(result,\"pdf_url\") else result.entry_id.replace(\"abs\",\"pdf\")\n",
    "            papers.append(\n",
    "                f\"Title: {result.title}\\n\"\n",
    "                f\"Authors: {','.join(a.name for a in result.authors)}\\n\"\n",
    "                f'Published: {result.published.date()}\\n'\n",
    "                f\"Abstract: {result.summary.strip()}\\n\"\n",
    "                f\"Link: {result.entry_id}\\n\"\n",
    "                f\"PDF: {pdf_url}\\n\"\n",
    "                + \"-\"*80\n",
    "\n",
    "            )\n",
    "        if not papers:\n",
    "            return f\"No results found for '{query}\"\n",
    "        return \"\\n\".join(papers)\n",
    "    except Exception as e:\n",
    "        return f\"Error during arXiv search: {e}\"\n",
    "    \n",
    "\n"
   ]
  },
  {
   "cell_type": "code",
   "execution_count": 8,
   "id": "4bee6a4c",
   "metadata": {},
   "outputs": [
    {
     "name": "stderr",
     "output_type": "stream",
     "text": [
      "C:\\Users\\JunaidKhan\\AppData\\Local\\Temp\\ipykernel_16152\\2627632007.py:1: LangChainDeprecationWarning: The method `BaseTool.__call__` was deprecated in langchain-core 0.1.47 and will be removed in 1.0. Use :meth:`~invoke` instead.\n",
      "  result = arxiv_search(\"Quantum Machine Learning\")\n",
      "C:\\Users\\JunaidKhan\\AppData\\Local\\Temp\\ipykernel_16152\\2323917343.py:18: DeprecationWarning: The 'Search.results' method is deprecated, use 'Client.results' instead\n",
      "  for result in search.results():\n"
     ]
    }
   ],
   "source": [
    "result = arxiv_search(\"Quantum Machine Learning\")"
   ]
  },
  {
   "cell_type": "code",
   "execution_count": 9,
   "id": "be0cb395",
   "metadata": {},
   "outputs": [],
   "source": [
    "#wikipedia\n",
    "from langchain_community.tools import WikipediaQueryRun\n",
    "from langchain_community.utilities import WikipediaAPIWrapper\n",
    "wikipedia_tool = WikipediaQueryRun(api_wrapper=WikipediaAPIWrapper(load_all_available_meta=True))"
   ]
  },
  {
   "cell_type": "code",
   "execution_count": 10,
   "id": "fa930a5d",
   "metadata": {},
   "outputs": [],
   "source": [
    "#youtube\n",
    "from langchain_community.tools import YouTubeSearchTool\n",
    "youtube_tool = YouTubeSearchTool()"
   ]
  },
  {
   "cell_type": "code",
   "execution_count": 11,
   "id": "b957f552",
   "metadata": {},
   "outputs": [
    {
     "data": {
      "text/plain": [
       "\"['https://www.youtube.com/watch?v=4FFspU4riHk&pp=ygUHQ2FtcHVzWA%3D%3D', 'https://www.youtube.com/watch?v=g8zA76oBmX0&pp=ygUHQ2FtcHVzWNIHCQmyCQGHKiGM7w%3D%3D']\""
      ]
     },
     "execution_count": 11,
     "metadata": {},
     "output_type": "execute_result"
    }
   ],
   "source": [
    "youtube_tool.run(\"CampusX\")"
   ]
  },
  {
   "cell_type": "code",
   "execution_count": 12,
   "id": "243a1f68",
   "metadata": {},
   "outputs": [],
   "source": [
    "# tools\n",
    "tools = [arxiv_search,wikipedia_tool,youtube_tool,read_tool, add_human_in_the_loop(write_tool), list_tool,web_search_tool]"
   ]
  },
  {
   "cell_type": "code",
   "execution_count": 13,
   "id": "be4a34ae",
   "metadata": {},
   "outputs": [],
   "source": [
    "#llm\n",
    "llm = ChatGoogleGenerativeAI(model = 'gemini-1.5-flash')\n",
    "llm_with_tools = llm.bind_tools(tools)\n"
   ]
  },
  {
   "cell_type": "markdown",
   "id": "d93797cc",
   "metadata": {},
   "source": [
    "GRAPH BUILDING"
   ]
  },
  {
   "cell_type": "code",
   "execution_count": 14,
   "id": "52228cf1",
   "metadata": {},
   "outputs": [],
   "source": [
    "class State(TypedDict):\n",
    "    messages : Annotated[list[BaseMessage],add_messages]"
   ]
  },
  {
   "cell_type": "code",
   "execution_count": 15,
   "id": "17e79e2f",
   "metadata": {},
   "outputs": [],
   "source": [
    "system_prompt = \"\"\" \n",
    "You are a reasoning agent that uses tools to answer questions.\n",
    "You must always follow the Thought → Action → Action Input → Observation loop.\n",
    "\n",
    "\"\"\""
   ]
  },
  {
   "cell_type": "code",
   "execution_count": 16,
   "id": "aa66dd38",
   "metadata": {},
   "outputs": [],
   "source": [
    "def planner_node(state):\n",
    "    user_query = state['messages']\n",
    "\n",
    "    planner_prompt = ChatPromptTemplate([\n",
    "        ('system',system_prompt),\n",
    "        MessagesPlaceholder(variable_name='messages')\n",
    "    ])\n",
    "\n",
    "    planner = planner_prompt | llm_with_tools\n",
    "    result = planner.invoke({'messages': state['messages']})\n",
    "\n",
    "\n",
    "    return ({'messages':result}) \n",
    "    "
   ]
  },
  {
   "cell_type": "code",
   "execution_count": 17,
   "id": "772b7662",
   "metadata": {},
   "outputs": [],
   "source": [
    "graph = StateGraph(State)\n",
    "checkpointer = InMemorySaver()\n",
    "tool_node = ToolNode(tools)\n",
    "graph.add_node('planner_node',planner_node)\n",
    "graph.add_node('tools',tool_node)\n",
    "\n",
    "graph.add_edge(START,'planner_node')\n",
    "graph.add_conditional_edges('planner_node',tools_condition)\n",
    "graph.add_edge('tools','planner_node')\n",
    "graph = graph.compile(checkpointer=checkpointer)"
   ]
  },
  {
   "cell_type": "code",
   "execution_count": 18,
   "id": "abe89fd9",
   "metadata": {},
   "outputs": [
    {
     "data": {
      "image/png": "[encoded data removed]",
      "text/plain": [
       "<IPython.core.display.Image object>"
      ]
     },
     "metadata": {},
     "output_type": "display_data"
    }
   ],
   "source": [
    "from IPython.display import Image, display\n",
    "\n",
    "display(Image(graph.get_graph().draw_mermaid_png()))"
   ]
  },
  {
   "cell_type": "code",
   "execution_count": 30,
   "id": "d733a07d",
   "metadata": {},
   "outputs": [],
   "source": [
    "initial_state = {\n",
    "    \"messages\": [HumanMessage(content=\"save a python file to check if number is divisible by 17 or not\")]\n",
    "}\n",
    "\n",
    "config = {\"configurable\": {\"thread_id\": \"ss9vljk\"}}"
   ]
  },
  {
   "cell_type": "code",
   "execution_count": 31,
   "id": "ae7a4efc",
   "metadata": {},
   "outputs": [],
   "source": [
    "event = graph.stream(\n",
    "    initial_state,\n",
    "    config=config,\n",
    "    stream_mode=\"updates\",\n",
    ")"
   ]
  },
  {
   "cell_type": "code",
   "execution_count": 26,
   "id": "bed084d9",
   "metadata": {},
   "outputs": [],
   "source": [
    "eventin = graph.invoke(\n",
    "    initial_state,\n",
    "    config=config,\n",
    ")"
   ]
  },
  {
   "cell_type": "code",
   "execution_count": 27,
   "id": "da4bce52",
   "metadata": {},
   "outputs": [
    {
     "data": {
      "text/plain": [
       "{'messages': [HumanMessage(content='save a python file to check if number is divisible by 17 or not', additional_kwargs={}, response_metadata={}, id='4e17be49-8792-466f-ba0d-0f5fe5112fc0'),\n",
       "  AIMessage(content='', additional_kwargs={'function_call': {'name': 'write_file', 'arguments': '{\"file_path\": \"divisible_by_17.py\", \"text\": \"def is_divisible_by_17(number):\\\\n    return number % 17 == 0\\\\n\\\\n# Example usage\\\\nnumber = 51  # Replace with the number you want to check\\\\nif is_divisible_by_17(number):\\\\n    print(f\\'{number} is divisible by 17\\')\\\\nelse:\\\\n    print(f\\'{number} is not divisible by 17\\')\"}'}}, response_metadata={'prompt_feedback': {'block_reason': 0, 'safety_ratings': []}, 'finish_reason': 'STOP', 'model_name': 'gemini-1.5-flash', 'safety_ratings': []}, id='run--ce71f5eb-2a69-4bfe-8675-52c5de1a4489-0', tool_calls=[{'name': 'write_file', 'args': {'file_path': 'divisible_by_17.py', 'text': \"def is_divisible_by_17(number):\\n    return number % 17 == 0\\n\\n# Example usage\\nnumber = 51  # Replace with the number you want to check\\nif is_divisible_by_17(number):\\n    print(f'{number} is divisible by 17')\\nelse:\\n    print(f'{number} is not divisible by 17')\"}, 'id': '1c61f329-3a11-4809-90ac-2a300fc32076', 'type': 'tool_call'}], usage_metadata={'input_tokens': 1361, 'output_tokens': 108, 'total_tokens': 1469, 'input_token_details': {'cache_read': 0}})],\n",
       " '__interrupt__': [Interrupt(value=[{'action_request': {'action': 'write_file', 'args': {'file_path': 'divisible_by_17.py', 'text': \"def is_divisible_by_17(number):\\n    return number % 17 == 0\\n\\n# Example usage\\nnumber = 51  # Replace with the number you want to check\\nif is_divisible_by_17(number):\\n    print(f'{number} is divisible by 17')\\nelse:\\n    print(f'{number} is not divisible by 17')\"}}, 'config': {'allow_accept': True, 'allow_edit': True, 'allow_respond': True}, 'description': 'Please review the tool call'}], id='39037059c9614cb5a564303095a8fd6d')]}"
      ]
     },
     "execution_count": 27,
     "metadata": {},
     "output_type": "execute_result"
    }
   ],
   "source": [
    "eventin"
   ]
  },
  {
   "cell_type": "code",
   "execution_count": 156,
   "id": "be197031",
   "metadata": {},
   "outputs": [
    {
     "name": "stdout",
     "output_type": "stream",
     "text": [
      "{'planner_node': {'messages': AIMessage(content='', additional_kwargs={'function_call': {'name': 'wikipedia', 'arguments': '{\"query\": \"Naruto\"}'}}, response_metadata={'prompt_feedback': {'block_reason': 0, 'safety_ratings': []}, 'finish_reason': 'STOP', 'model_name': 'gemini-2.5-flash', 'safety_ratings': []}, id='run--7ddfec85-56f0-4b2a-b102-e32252c81153-0', tool_calls=[{'name': 'wikipedia', 'args': {'query': 'Naruto'}, 'id': 'f7c235d5-d29c-4eb2-af44-358efcdc2ddb', 'type': 'tool_call'}], usage_metadata={'input_tokens': 1699, 'output_tokens': 75, 'total_tokens': 1774, 'input_token_details': {'cache_read': 1645}, 'output_token_details': {'reasoning': 61}})}}\n",
      "{'tools': {'messages': [ToolMessage(content='Page: Naruto\\nSummary: Naruto is a Japanese manga series written and illustrated by Masashi Kishimoto. It tells the story of Naruto Uzumaki, a young ninja who seeks recognition from his peers and dreams of becoming the Hokage, the leader of his village. The story is told in two parts: the first is set in Naruto\\'s pre-teen years (volumes 1–27), and the second in his teens (volumes 28–72). The series is based on two one-shot manga by Kishimoto: Karakuri (1995), which earned Kishimoto an honorable mention in Shueisha\\'s monthly Hop Step Award the following year, and Naruto (1997).\\nNaruto was serialized in Shueisha\\'s shōnen manga magazine Weekly Shōnen Jump from September 1999 to November 2014, with its 700 chapters collected in 72 tankōbon volumes. Viz Media licensed the manga for North American production and serialized Naruto in their digital Weekly Shonen Jump magazine. The manga was adapted into two anime television series by Pierrot and Aniplex, which ran from October 2002 to March 2017 on TV Tokyo. Pierrot also produced 11 animated films and 12 original video animations (OVAs). The franchise also includes light novels, video games, and trading cards. The story continues in Boruto, where Naruto\\'s son Boruto Uzumaki creates his own ninja path instead of following his father\\'s.\\nNaruto is one of the best-selling manga series of all time, having 250 million copies in circulation worldwide. It has become one of Viz Media\\'s best-selling manga series; their English translations of the volumes have appeared on USA Today and The New York Times\\'s bestseller list several times, and the seventh volume won a Quill Award in 2006. Naruto has been praised for its character development, storylines, and action sequences, though some felt the latter slowed the story down. Critics noted that the manga, which contains coming-of-age themes, often makes cultural references to Japanese mythology and Confucianism.\\n\\nPage: Naruto Uzumaki\\nSummary: Naruto Uzumaki (Japanese: うずまき ナルト, Hepburn: Uzumaki Naruto) () is the titular protagonist of the manga series Naruto, created by Masashi Kishimoto. He is a ninja from the fictional Hidden Leaf Village (Japanese: 木ノ葉隠れ, Hepburn: konohagakure). As a boy, Naruto is ridiculed and ostracized on account of the Nine-Tailed Demon Fox—a malevolent creature that attacked Konohagakure—that was sealed away in his body. Despite this, he aspires to become his village\\'s leader, the Hokage, in order to receive their approval. His carefree, optimistic, and boisterous personality enables him to befriend other Konohagakure ninja, as well as ninja from other villages. Naruto appears in the series\\'s films and in other media related to the franchise, including video games and original video animations (OVA), as well as the sequel Boruto: Naruto Next Generations, where he is the Hokage, and his son, Boruto Uzumaki, is the protagonist.\\nWhen creating Naruto for the initial part of the series, Kishimoto kept the character \"simple and stupid\" while giving him many attributes of an ideal hero. Kishimoto gave Naruto a dark side by adding tragedy to the character\\'s past. He has revised Naruto\\'s image many times, providing the character with simple clothes to fit the young demography. Kishimoto changed his design for Part II of the storyline, which starts two-and-a-half years after Part I. Naruto is voiced by Junko Takeuchi in the original animated series and Maile Flanagan in the English adaptations.\\nMerchandise based on Naruto includes figurines and keychains. Naruto\\'s character development has been praised by anime and manga publications and has drawn scholarly attention. Although some initially saw him as a typical manga and anime protagonist comparable to those in other shōnen manga, others have praised his personality and character development as he avoids stereotypes typically seen in similar media. The character has also been the subject of research in literature, making him stand out in fiction based on his traits and growth.\\n\\nPage', name='wikipedia', id='2287ac62-8dfe-4f2b-838d-418c560603c7', tool_call_id='f7c235d5-d29c-4eb2-af44-358efcdc2ddb')]}}\n",
      "{'planner_node': {'messages': AIMessage(content=\"Naruto is a popular Japanese manga and anime series about Naruto Uzumaki, a young ninja who dreams of becoming the Hokage, his village's leader. The story follows his journey through his pre-teen and teen years as he trains and battles alongside his friends. Despite being ostracized early in life due to a powerful demon sealed within him, Naruto's optimistic and determined personality helps him overcome challenges and gain recognition. The series is known for its strong character development, engaging storylines, and exciting action sequences. Naruto has become one of the best-selling manga series globally and continues in the sequel, Boruto, where Naruto is the Hokage.\", additional_kwargs={'function_call': {'name': 'write_file', 'arguments': '{\"file_path\": \"naruto.txt\", \"text\": \"Naruto is a popular Japanese manga and anime series about Naruto Uzumaki, a young ninja who dreams of becoming the Hokage, his village\\'s leader. The story follows his journey through his pre-teen and teen years as he trains and battles alongside his friends. Despite being ostracized early in life due to a powerful demon sealed within him, Naruto\\'s optimistic and determined personality helps him overcome challenges and gain recognition. The series is known for its strong character development, engaging storylines, and exciting action sequences. Naruto has become one of the best-selling manga series globally and continues in the sequel, Boruto, where Naruto is the Hokage.\"}'}}, response_metadata={'prompt_feedback': {'block_reason': 0, 'safety_ratings': []}, 'finish_reason': 'STOP', 'model_name': 'gemini-2.5-flash', 'safety_ratings': []}, id='run--367e4df8-8388-43ba-8c1a-442cfbd45fbc-0', tool_calls=[{'name': 'write_file', 'args': {'file_path': 'naruto.txt', 'text': \"Naruto is a popular Japanese manga and anime series about Naruto Uzumaki, a young ninja who dreams of becoming the Hokage, his village's leader. The story follows his journey through his pre-teen and teen years as he trains and battles alongside his friends. Despite being ostracized early in life due to a powerful demon sealed within him, Naruto's optimistic and determined personality helps him overcome challenges and gain recognition. The series is known for its strong character development, engaging storylines, and exciting action sequences. Naruto has become one of the best-selling manga series globally and continues in the sequel, Boruto, where Naruto is the Hokage.\"}, 'id': '30c02db7-1438-4b25-96fa-c06934f4928d', 'type': 'tool_call'}], usage_metadata={'input_tokens': 2635, 'output_tokens': 346, 'total_tokens': 2981, 'input_token_details': {'cache_read': 0}, 'output_token_details': {'reasoning': 56}})}}\n",
      "{'__interrupt__': (Interrupt(value=[{'action_request': {'action': 'write_file', 'args': {'file_path': 'naruto.txt', 'text': \"Naruto is a popular Japanese manga and anime series about Naruto Uzumaki, a young ninja who dreams of becoming the Hokage, his village's leader. The story follows his journey through his pre-teen and teen years as he trains and battles alongside his friends. Despite being ostracized early in life due to a powerful demon sealed within him, Naruto's optimistic and determined personality helps him overcome challenges and gain recognition. The series is known for its strong character development, engaging storylines, and exciting action sequences. Naruto has become one of the best-selling manga series globally and continues in the sequel, Boruto, where Naruto is the Hokage.\"}}, 'config': {'allow_accept': True, 'allow_edit': True, 'allow_respond': True}, 'description': 'Please review the tool call'}], id='93c5b599ac4ea790d8f9dc5bbd125834'),)}\n"
     ]
    }
   ],
   "source": [
    "for e in event:\n",
    "    print(e)"
   ]
  },
  {
   "cell_type": "code",
   "execution_count": null,
   "id": "b73e7700",
   "metadata": {},
   "outputs": [
    {
     "name": "stdout",
     "output_type": "stream",
     "text": [
      "ok\n",
      "ok\n",
      "ok\n"
     ]
    }
   ],
   "source": [
    "for e in event:\n",
    "    if \"__interrupt__\" not in e:\n",
    "        print(\"ok\")\n",
    "        for node,data in e.items():\n",
    "        \n",
    "            m = data.get('messages',[])\n",
    "            if isinstance(m, ToolMessage):\n",
    "                print('working')\n",
    "                print(m)\n"
   ]
  },
  {
   "cell_type": "code",
   "execution_count": null,
   "id": "d91ce642",
   "metadata": {},
   "outputs": [],
   "source": [
    "{'name':{'messages':}}"
   ]
  },
  {
   "cell_type": "code",
   "execution_count": null,
   "id": "728ab06d",
   "metadata": {},
   "outputs": [
    {
     "name": "stdout",
     "output_type": "stream",
     "text": [
      "{'action_request': {'action': 'write_file', 'args': {'file_path': 'divisible_by_17.py', 'text': 'def is_divisible_by_17(number):\\n    return number % 17 == 0\\n\\n# Get input from the user\\nnumber = int(input(\"Enter a number: \"))\\n\\n# Check if the number is divisible by 17\\nif is_divisible_by_17(number):\\n    print(f\"{number} is divisible by 17.\")\\nelse:\\n    print(f\"{number} is not divisible by 17.\")'}}, 'config': {'allow_accept': True, 'allow_edit': True, 'allow_respond': True}, 'description': 'Please review the tool call'}\n"
     ]
    }
   ],
   "source": [
    "for e in event:\n",
    "    if \"__interrupt__\" in e:\n",
    "        print(e['__interrupt__'][0])"
   ]
  },
  {
   "cell_type": "code",
   "execution_count": 34,
   "id": "447311c4",
   "metadata": {},
   "outputs": [
    {
     "name": "stdout",
     "output_type": "stream",
     "text": [
      "StateSnapshot(values={'messages': [HumanMessage(content='save a python file to check if number is divisible by 17 or not', additional_kwargs={}, response_metadata={}, id='4abbc521-9020-48a7-939e-b77a796099ff'), AIMessage(content='', additional_kwargs={'function_call': {'name': 'write_file', 'arguments': '{\"file_path\": \"divisible_by_17.py\", \"text\": \"def is_divisible_by_17(number):\\\\n    return number % 17 == 0\\\\n\\\\n#Example usage\\\\nnumber = 51\\\\nif is_divisible_by_17(number):\\\\n    print(f\\\\\"{number} is divisible by 17\\\\\")\\\\nelse:\\\\n    print(f\\\\\"{number} is not divisible by 17\\\\\")\"}'}}, response_metadata={'prompt_feedback': {'block_reason': 0, 'safety_ratings': []}, 'finish_reason': 'STOP', 'model_name': 'gemini-1.5-flash', 'safety_ratings': []}, id='run--93701ff0-f4c9-429e-9fa4-b05c73072bdf-0', tool_calls=[{'name': 'write_file', 'args': {'file_path': 'divisible_by_17.py', 'text': 'def is_divisible_by_17(number):\\n    return number % 17 == 0\\n\\n#Example usage\\nnumber = 51\\nif is_divisible_by_17(number):\\n    print(f\"{number} is divisible by 17\")\\nelse:\\n    print(f\"{number} is not divisible by 17\")'}, 'id': '170aba42-e85f-468c-9f76-dc1aa30c993e', 'type': 'tool_call'}], usage_metadata={'input_tokens': 1361, 'output_tokens': 98, 'total_tokens': 1459, 'input_token_details': {'cache_read': 0}})]}, next=('tools',), config={'configurable': {'thread_id': 'ss9vljk', 'checkpoint_ns': '', 'checkpoint_id': '1f08384e-8f5c-6832-8001-927d4c9c5081'}}, metadata={'source': 'loop', 'step': 1, 'parents': {}}, created_at='2025-08-27T20:32:11.582878+00:00', parent_config={'configurable': {'thread_id': 'ss9vljk', 'checkpoint_ns': '', 'checkpoint_id': '1f08384e-812b-616a-8000-bacfe021a4f3'}}, tasks=(PregelTask(id='86a2d618-2f60-33b2-2a30-cbded840b253', name='tools', path=('__pregel_pull', 'tools'), error=None, interrupts=(Interrupt(value=[{'action_request': {'action': 'write_file', 'args': {'file_path': 'divisible_by_17.py', 'text': 'def is_divisible_by_17(number):\\n    return number % 17 == 0\\n\\n#Example usage\\nnumber = 51\\nif is_divisible_by_17(number):\\n    print(f\"{number} is divisible by 17\")\\nelse:\\n    print(f\"{number} is not divisible by 17\")'}}, 'config': {'allow_accept': True, 'allow_edit': True, 'allow_respond': True}, 'description': 'Please review the tool call'}], id='b0833a6953b0991e205914b129c2cdfc'),), state=None, result=None),), interrupts=(Interrupt(value=[{'action_request': {'action': 'write_file', 'args': {'file_path': 'divisible_by_17.py', 'text': 'def is_divisible_by_17(number):\\n    return number % 17 == 0\\n\\n#Example usage\\nnumber = 51\\nif is_divisible_by_17(number):\\n    print(f\"{number} is divisible by 17\")\\nelse:\\n    print(f\"{number} is not divisible by 17\")'}}, 'config': {'allow_accept': True, 'allow_edit': True, 'allow_respond': True}, 'description': 'Please review the tool call'}], id='b0833a6953b0991e205914b129c2cdfc'),))\n"
     ]
    }
   ],
   "source": [
    "print(graph.get_state(config))"
   ]
  },
  {
   "cell_type": "code",
   "execution_count": 33,
   "id": "0d49d099",
   "metadata": {},
   "outputs": [
    {
     "name": "stdout",
     "output_type": "stream",
     "text": [
      "b0833a6953b0991e205914b129c2cdfc\n"
     ]
    }
   ],
   "source": [
    "for e in event:\n",
    "    if \"__interrupt__\" in e:\n",
    "        print(e['__interrupt__'][0].id)"
   ]
  },
  {
   "cell_type": "code",
   "execution_count": 34,
   "id": "ab4a0b97",
   "metadata": {},
   "outputs": [
    {
     "name": "stdout",
     "output_type": "stream",
     "text": [
      "content='' additional_kwargs={'function_call': {'name': 'wikipedia', 'arguments': '{\"query\": \"pyramids\"}'}} response_metadata={'finish_reason': 'STOP', 'model_name': 'gemini-2.5-flash', 'safety_ratings': []} id='run--75a7046e-f2ab-4b58-b4ae-6f1ee1b8a93a' tool_calls=[{'name': 'wikipedia', 'args': {'query': 'pyramids'}, 'id': '6031f234-0cda-46a1-ad5b-36b0df9ea487', 'type': 'tool_call'}] usage_metadata={'input_tokens': 1698, 'output_tokens': 79, 'total_tokens': 1777, 'input_token_details': {'cache_read': 1644}, 'output_token_details': {'reasoning': 64}} tool_call_chunks=[{'name': 'wikipedia', 'args': '{\"query\": \"pyramids\"}', 'id': '6031f234-0cda-46a1-ad5b-36b0df9ea487', 'index': None, 'type': 'tool_call_chunk'}]\n",
      "----------------------\n",
      "{'thread_id': '9d0', 'langgraph_step': 1, 'langgraph_node': 'planner_node', 'langgraph_triggers': ('branch:to:planner_node',), 'langgraph_path': ('__pregel_pull', 'planner_node'), 'langgraph_checkpoint_ns': 'planner_node:d66173b5-000e-d444-9611-e16e1efc0b03', 'checkpoint_ns': 'planner_node:d66173b5-000e-d444-9611-e16e1efc0b03', 'ls_provider': 'google_genai', 'ls_model_name': 'gemini-2.5-flash', 'ls_model_type': 'chat', 'ls_temperature': 0.7}\n",
      "***********************\n",
      "content=\"Page: Pyramid\\nSummary: A pyramid (from Ancient Greek  πυραμίς (puramís) 'pyramid', from the Egyptian pir-em-us, the vertical height of the structure.) is a structure whose visible surfaces are triangular in broad outline and converge toward the top, making the appearance roughly a pyramid in the geometric sense. The base of a pyramid can be of any polygon shape, such as triangular or quadrilateral, and its surface-lines either filled or stepped.\\n\\nA pyramid has the majority of its mass closer to the ground with less mass towards the pyramidion at the apex. This is due to the gradual decrease in the cross-sectional area along the vertical axis with increasing elevation. This offers a weight distribution that allowed early civilizations to create monumental structures.Ancient civilizations in many parts of the world pioneered the building of  pyramids. The largest pyramid by volume is the Mesoamerican Great Pyramid of Cholula, in the Mexican state of Puebla. For millennia, the largest structures on Earth were pyramids—first the Red Pyramid in the Dashur Necropolis and then the Great Pyramid of Khufu, both in Egypt—the latter is the only extant example of the Seven Wonders of the Ancient World.\\n\\nPage: Egyptian pyramids\\nSummary: The Egyptian pyramids are ancient masonry structures located in Egypt. Most were built as tombs for the pharaohs and their consorts during the Old and Middle Kingdom periods. At least 138 identified pyramids have been discovered in Egypt. Approximately 80 pyramids were built within the Kingdom of Kush, now located in the modern country of Sudan.\\nThe earliest known Egyptian pyramids are at Saqqara, west of Memphis. Step-pyramid-like structures, like Mastaba 3808 attributed to pharaoh Anedjib, may predate the Pyramid of Djoser built c. 2630–2610 BCE during the Third Dynasty. This pyramid and its surrounding complex are generally considered to be the world's oldest monumental structures constructed of dressed masonry.\\nThe most famous Egyptian pyramids are those found at Giza, on the outskirts of Cairo. Several of the Giza pyramids are counted among the largest structures ever built. The Pyramid of Khufu is the largest Egyptian pyramid and the last of the Seven Wonders of the Ancient World still in existence, despite being the oldest by about 2,000 years.\\n\\nPage: Giza pyramid complex\\nSummary: The Giza pyramid complex (also called the Giza necropolis) in Egypt is home to the Great Pyramid, the pyramid of Khafre, and the pyramid of Menkaure, along with their associated pyramid complexes and the Great Sphinx. All were built during the Fourth Dynasty of the Old Kingdom of ancient Egypt, between c.\\u20092600 – c.\\u20092500 BC. The site also includes several temples, cemeteries, and the remains of a workers' village.\\nThe site is at the edge of the Western Desert, approximately 9 km (5.6 mi) west of the Nile River in the city of Giza, and about 13 km (8.1 mi) southwest of the city centre of Cairo. It forms the northernmost part of the 16,000 ha (160 km2; 62 sq mi) Pyramid Fields of the Memphis and its Necropolis UNESCO World Heritage Site, inscribed in 1979. The pyramid fields include the Abusir, Saqqara, and Dahshur pyramid complexes, which were all built in the vicinity of Egypt's ancient capital of Memphis. Further Old Kingdom pyramid fields were located at the sites Abu Rawash, Zawyet El Aryan, and Meidum. Most of the limestone used to build the pyramids originates from the underlying Mokattam Formation.\\nThe Great Pyramid and the Pyramid of Khafre are the largest pyramids built in ancient Egypt, and they have historically been common as emblems of Ancient Egypt in the Western imagination. They were popularised in Hellenistic times, when the Great Pyramid was listed by Antipater of Sidon as one of the Seven Wonders of the World. It is by far the oldest of the Ancient Wonders and the only one still in existence.\" name='wikipedia' id='4a06b9d0-53a5-4832-ba48-ae3772fd560e' tool_call_id='6031f234-0cda-46a1-ad5b-36b0df9ea487'\n",
      "----------------------\n",
      "{'thread_id': '9d0', 'langgraph_step': 2, 'langgraph_node': 'tools', 'langgraph_triggers': ('branch:to:tools',), 'langgraph_path': ('__pregel_pull', 'tools'), 'langgraph_checkpoint_ns': 'tools:9c4d01ce-4f7f-80f8-1355-9b51c762a1b4'}\n",
      "***********************\n",
      "content='Pyramids are monumental structures with triangular visible surfaces that converge towards the top, with their mass closer to the ground, allowing ancient civilizations to create these massive structures. The Great Pyramid of Cholula in Mexico is the largest by volume, while the' additional_kwargs={} response_metadata={'safety_ratings': []} id='run--909f782b-0500-4a8c-859e-c6bc5ad231ae' usage_metadata={'input_tokens': 2596, 'output_tokens': 96, 'total_tokens': 2692, 'input_token_details': {'cache_read': 1758}, 'output_token_details': {'reasoning': 47}}\n",
      "----------------------\n",
      "{'thread_id': '9d0', 'langgraph_step': 3, 'langgraph_node': 'planner_node', 'langgraph_triggers': ('branch:to:planner_node',), 'langgraph_path': ('__pregel_pull', 'planner_node'), 'langgraph_checkpoint_ns': 'planner_node:4b7fa7c2-2685-36de-d050-c39fc58dbdef', 'checkpoint_ns': 'planner_node:4b7fa7c2-2685-36de-d050-c39fc58dbdef', 'ls_provider': 'google_genai', 'ls_model_name': 'gemini-2.5-flash', 'ls_model_type': 'chat', 'ls_temperature': 0.7}\n",
      "***********************\n",
      "content=' Great Pyramid of Khufu in Egypt was the largest for millennia and is the only extant example of the Seven Wonders of the Ancient World. Most Egyptian pyramids were built as tombs for pharaohs and their consorts during the Old and Middle Kingdom periods' additional_kwargs={} response_metadata={'safety_ratings': []} id='run--909f782b-0500-4a8c-859e-c6bc5ad231ae' usage_metadata={'input_token_details': {'cache_read': 0}, 'input_tokens': 0, 'output_tokens': 49, 'total_tokens': 49, 'output_token_details': {'reasoning': 0}}\n",
      "----------------------\n",
      "{'thread_id': '9d0', 'langgraph_step': 3, 'langgraph_node': 'planner_node', 'langgraph_triggers': ('branch:to:planner_node',), 'langgraph_path': ('__pregel_pull', 'planner_node'), 'langgraph_checkpoint_ns': 'planner_node:4b7fa7c2-2685-36de-d050-c39fc58dbdef', 'checkpoint_ns': 'planner_node:4b7fa7c2-2685-36de-d050-c39fc58dbdef', 'ls_provider': 'google_genai', 'ls_model_name': 'gemini-2.5-flash', 'ls_model_type': 'chat', 'ls_temperature': 0.7}\n",
      "***********************\n",
      "content=\", with at least 138 identified in Egypt. The earliest known Egyptian pyramids are at Saqqara, and the Pyramid of Djoser is considered the world's oldest monumental structure built of dressed masonry. The Giza pyramid complex,\" additional_kwargs={} response_metadata={'safety_ratings': []} id='run--909f782b-0500-4a8c-859e-c6bc5ad231ae' usage_metadata={'input_token_details': {'cache_read': 0}, 'input_tokens': 0, 'output_tokens': 50, 'total_tokens': 50, 'output_token_details': {'reasoning': 0}}\n",
      "----------------------\n",
      "{'thread_id': '9d0', 'langgraph_step': 3, 'langgraph_node': 'planner_node', 'langgraph_triggers': ('branch:to:planner_node',), 'langgraph_path': ('__pregel_pull', 'planner_node'), 'langgraph_checkpoint_ns': 'planner_node:4b7fa7c2-2685-36de-d050-c39fc58dbdef', 'checkpoint_ns': 'planner_node:4b7fa7c2-2685-36de-d050-c39fc58dbdef', 'ls_provider': 'google_genai', 'ls_model_name': 'gemini-2.5-flash', 'ls_model_type': 'chat', 'ls_temperature': 0.7}\n",
      "***********************\n",
      "content=' including the Great Pyramid, the pyramid of Khafre, and the pyramid of Menkaure, are among the most famous and were built during the Fourth Dynasty of ancient Egypt.\\n' additional_kwargs={} response_metadata={'safety_ratings': []} id='run--909f782b-0500-4a8c-859e-c6bc5ad231ae' usage_metadata={'input_token_details': {'cache_read': 0}, 'input_tokens': 0, 'output_tokens': 35, 'total_tokens': 35, 'output_token_details': {'reasoning': 0}}\n",
      "----------------------\n",
      "{'thread_id': '9d0', 'langgraph_step': 3, 'langgraph_node': 'planner_node', 'langgraph_triggers': ('branch:to:planner_node',), 'langgraph_path': ('__pregel_pull', 'planner_node'), 'langgraph_checkpoint_ns': 'planner_node:4b7fa7c2-2685-36de-d050-c39fc58dbdef', 'checkpoint_ns': 'planner_node:4b7fa7c2-2685-36de-d050-c39fc58dbdef', 'ls_provider': 'google_genai', 'ls_model_name': 'gemini-2.5-flash', 'ls_model_type': 'chat', 'ls_temperature': 0.7}\n",
      "***********************\n",
      "content='' additional_kwargs={'function_call': {'name': 'write_file', 'arguments': '{\"file_path\": \"pyramids.txt\", \"text\": \"Pyramids are monumental structures with triangular visible surfaces that converge towards the top, with their mass closer to the ground, allowing ancient civilizations to create these massive structures. The Great Pyramid of Cholula in Mexico is the largest by volume, while the Great Pyramid of Khufu in Egypt was the largest for millennia and is the only extant example of the Seven Wonders of the Ancient World. Most Egyptian pyramids were built as tombs for pharaohs and their consorts during the Old and Middle Kingdom periods, with at least 138 identified in Egypt. The earliest known Egyptian pyramids are at Saqqara, and the Pyramid of Djoser is considered the world\\'s oldest monumental structure built of dressed masonry. The Giza pyramid complex, including the Great Pyramid, the pyramid of Khafre, and the pyramid of Menkaure, are among the most famous and were built during the Fourth Dynasty of ancient Egypt.\"}'}} response_metadata={'finish_reason': 'STOP', 'model_name': 'gemini-2.5-flash', 'safety_ratings': []} id='run--909f782b-0500-4a8c-859e-c6bc5ad231ae' tool_calls=[{'name': 'write_file', 'args': {'file_path': 'pyramids.txt', 'text': \"Pyramids are monumental structures with triangular visible surfaces that converge towards the top, with their mass closer to the ground, allowing ancient civilizations to create these massive structures. The Great Pyramid of Cholula in Mexico is the largest by volume, while the Great Pyramid of Khufu in Egypt was the largest for millennia and is the only extant example of the Seven Wonders of the Ancient World. Most Egyptian pyramids were built as tombs for pharaohs and their consorts during the Old and Middle Kingdom periods, with at least 138 identified in Egypt. The earliest known Egyptian pyramids are at Saqqara, and the Pyramid of Djoser is considered the world's oldest monumental structure built of dressed masonry. The Giza pyramid complex, including the Great Pyramid, the pyramid of Khafre, and the pyramid of Menkaure, are among the most famous and were built during the Fourth Dynasty of ancient Egypt.\"}, 'id': 'f1e20d22-745f-4c47-befb-43939da6e2be', 'type': 'tool_call'}] usage_metadata={'input_token_details': {'cache_read': 0}, 'input_tokens': 0, 'output_tokens': 207, 'total_tokens': 207, 'output_token_details': {'reasoning': 0}} tool_call_chunks=[{'name': 'write_file', 'args': '{\"file_path\": \"pyramids.txt\", \"text\": \"Pyramids are monumental structures with triangular visible surfaces that converge towards the top, with their mass closer to the ground, allowing ancient civilizations to create these massive structures. The Great Pyramid of Cholula in Mexico is the largest by volume, while the Great Pyramid of Khufu in Egypt was the largest for millennia and is the only extant example of the Seven Wonders of the Ancient World. Most Egyptian pyramids were built as tombs for pharaohs and their consorts during the Old and Middle Kingdom periods, with at least 138 identified in Egypt. The earliest known Egyptian pyramids are at Saqqara, and the Pyramid of Djoser is considered the world\\'s oldest monumental structure built of dressed masonry. The Giza pyramid complex, including the Great Pyramid, the pyramid of Khafre, and the pyramid of Menkaure, are among the most famous and were built during the Fourth Dynasty of ancient Egypt.\"}', 'id': 'f1e20d22-745f-4c47-befb-43939da6e2be', 'index': None, 'type': 'tool_call_chunk'}]\n",
      "----------------------\n",
      "{'thread_id': '9d0', 'langgraph_step': 3, 'langgraph_node': 'planner_node', 'langgraph_triggers': ('branch:to:planner_node',), 'langgraph_path': ('__pregel_pull', 'planner_node'), 'langgraph_checkpoint_ns': 'planner_node:4b7fa7c2-2685-36de-d050-c39fc58dbdef', 'checkpoint_ns': 'planner_node:4b7fa7c2-2685-36de-d050-c39fc58dbdef', 'ls_provider': 'google_genai', 'ls_model_name': 'gemini-2.5-flash', 'ls_model_type': 'chat', 'ls_temperature': 0.7}\n",
      "***********************\n"
     ]
    }
   ],
   "source": [
    "for message_chunk, metadata in graph.stream(\n",
    "    initial_state,\n",
    "    config=config,\n",
    "    stream_mode=\"messages\",\n",
    "):\n",
    "    print(message_chunk)\n",
    "    print(\"----------------------\")\n",
    "    print(metadata)\n",
    "    print(\"***********************\")\n"
   ]
  },
  {
   "cell_type": "code",
   "execution_count": 43,
   "id": "2c09a802",
   "metadata": {},
   "outputs": [],
   "source": [
    "for event in events:\n",
    "    print(event)"
   ]
  },
  {
   "cell_type": "code",
   "execution_count": 26,
   "id": "23044bf5",
   "metadata": {},
   "outputs": [],
   "source": [
    "# Run the agent\n",
    "chunk =  graph.invoke(\n",
    "    initial_state,\n",
    "    config\n",
    ")"
   ]
  },
  {
   "cell_type": "code",
   "execution_count": 30,
   "id": "bcc86eff",
   "metadata": {},
   "outputs": [
    {
     "data": {
      "text/plain": [
       "'Pyramids are monumental structures with triangular sides converging at an apex, often built by ancient civilizations. The majority of their mass is concentrated near the ground, allowing for stable and massive constructions. The Great Pyramid of Cholula in Mexico is the largest by volume, while the Great Pyramid of Khufu in Egypt was the tallest structure for millennia and is the only remaining Ancient Wonder of the World. Most Egyptian pyramids served as tombs for pharaohs and their consorts during the Old and Middle Kingdom periods. The Giza pyramid complex, home to the Great Pyramid, the Pyramid of Khafre, and the Pyramid of Menkaure, is a famous example of these ancient architectural marvels.'"
      ]
     },
     "execution_count": 30,
     "metadata": {},
     "output_type": "execute_result"
    }
   ],
   "source": [
    "chunk['messages'][-1].content"
   ]
  },
  {
   "cell_type": "code",
   "execution_count": 38,
   "id": "71d8e5ec",
   "metadata": {},
   "outputs": [
    {
     "data": {
      "text/plain": [
       "{'__interrupt__': (Interrupt(value=[{'action_request': {'action': 'write_file', 'args': {'file_path': 'pyramid_info.txt', 'text': 'Pyramid: A pyramid is a structure whose visible surfaces are triangular in broad outline and converge toward the top, making the appearance roughly a pyramid in the geometric sense. The base of a pyramid can be of any polygon shape. Ancient civilizations in many parts of the world pioneered the building of pyramids. The largest pyramid by volume is the Mesoamerican Great Pyramid of Cholula, in the Mexican state of Puebla. For millennia, the largest structures on Earth were pyramids—first the Red Pyramid in the Dashur Necropolis and then the Great Pyramid of Khufu, both in Egypt.\\n\\nGreat Pyramid of Giza: The Great Pyramid of Giza is the largest Egyptian pyramid. It served as the tomb of pharaoh Khufu, who ruled during the Fourth Dynasty of the Old Kingdom. Built c. 2600 BC, over a period of about 26 years, the pyramid is the oldest of the Seven Wonders of the Ancient World, and the only wonder that has remained largely intact. Initially standing at 146.6 metres (481 feet), the Great Pyramid was the world\\'s tallest human-made structure for more than 3,800 years. The Great Pyramid was built by quarrying an estimated 2.3 million large blocks, weighing 6 million tonnes in total. There are three known chambers inside of the Great Pyramid. The funerary complex around the pyramid consisted of two mortuary temples connected by a causeway; tombs for the immediate family and court of Khufu, including three smaller pyramids for Khufu\\'s wives; an even smaller \"satellite pyramid\"; and five buried solar barques.'}}, 'config': {'allow_accept': True, 'allow_edit': True, 'allow_respond': True}, 'description': 'Please review the tool call'}], id='203e8b26e132ac7a67598b4a48c3da77'),)}"
      ]
     },
     "execution_count": 38,
     "metadata": {},
     "output_type": "execute_result"
    }
   ],
   "source": [
    "chunk"
   ]
  },
  {
   "cell_type": "code",
   "execution_count": null,
   "id": "8d98fa91",
   "metadata": {},
   "outputs": [
    {
     "name": "stdout",
     "output_type": "stream",
     "text": [
      "(Interrupt(value=[{'action_request': {'action': 'write_file', 'args': {'file_path': 'pyramid_info.txt', 'text': 'Pyramid: A pyramid is a structure whose visible surfaces are triangular in broad outline and converge toward the top, making the appearance roughly a pyramid in the geometric sense. The base of a pyramid can be of any polygon shape. Ancient civilizations in many parts of the world pioneered the building of pyramids. The largest pyramid by volume is the Mesoamerican Great Pyramid of Cholula, in the Mexican state of Puebla. For millennia, the largest structures on Earth were pyramids—first the Red Pyramid in the Dashur Necropolis and then the Great Pyramid of Khufu, both in Egypt.\\n\\nGreat Pyramid of Giza: The Great Pyramid of Giza is the largest Egyptian pyramid. It served as the tomb of pharaoh Khufu, who ruled during the Fourth Dynasty of the Old Kingdom. Built c. 2600 BC, over a period of about 26 years, the pyramid is the oldest of the Seven Wonders of the Ancient World, and the only wonder that has remained largely intact. Initially standing at 146.6 metres (481 feet), the Great Pyramid was the world\\'s tallest human-made structure for more than 3,800 years. The Great Pyramid was built by quarrying an estimated 2.3 million large blocks, weighing 6 million tonnes in total. There are three known chambers inside of the Great Pyramid. The funerary complex around the pyramid consisted of two mortuary temples connected by a causeway; tombs for the immediate family and court of Khufu, including three smaller pyramids for Khufu\\'s wives; an even smaller \"satellite pyramid\"; and five buried solar barques.'}}, 'config': {'allow_accept': True, 'allow_edit': True, 'allow_respond': True}, 'description': 'Please review the tool call'}], id='203e8b26e132ac7a67598b4a48c3da77'),)\n"
     ]
    }
   ],
   "source": [
    "print(chunk['__interrupt__'][0])\n"
   ]
  },
  {
   "cell_type": "code",
   "execution_count": 28,
   "id": "89815fd7",
   "metadata": {},
   "outputs": [
    {
     "name": "stdout",
     "output_type": "stream",
     "text": [
      "{'tools': {'messages': [ToolMessage(content='File written successfully to divisible_by_17.py.', name='write_file', id='b6e55b91-ea4e-47b0-a824-da842ea24db3', tool_call_id='1c61f329-3a11-4809-90ac-2a300fc32076')]}}\n",
      "\n",
      "\n",
      "{'planner_node': {'messages': AIMessage(content='I have created a Python file named `divisible_by_17.py` that contains a function `is_divisible_by_17` which checks if a given number is divisible by 17.  The file also includes example usage.', additional_kwargs={}, response_metadata={'prompt_feedback': {'block_reason': 0, 'safety_ratings': []}, 'finish_reason': 'STOP', 'model_name': 'gemini-1.5-flash', 'safety_ratings': []}, id='run--4462c1c1-4548-4d6d-b5ef-1ce1828259e9-0', usage_metadata={'input_tokens': 1486, 'output_tokens': 55, 'total_tokens': 1541, 'input_token_details': {'cache_read': 0}})}}\n",
      "\n",
      "\n"
     ]
    }
   ],
   "source": [
    "from langgraph.types import Command\n",
    "user_input = input(\"Do you accept: ?\")\n",
    "\n",
    "for chunk in graph.stream(\n",
    "    Command(resume=[{\"type\": user_input}]),\n",
    "    config\n",
    "):\n",
    "    print(chunk)\n",
    "    print(\"\\n\")"
   ]
  },
  {
   "cell_type": "code",
   "execution_count": 24,
   "id": "0f4dc897",
   "metadata": {},
   "outputs": [
    {
     "data": {
      "text/plain": [
       "StateSnapshot(values={'messages': [HumanMessage(content='tell me about pyramid in detail and save it in a txt file', additional_kwargs={}, response_metadata={}, id='3d461e2c-da90-4ac8-a295-a358610987ae'), AIMessage(content='', additional_kwargs={'function_call': {'name': 'wikipedia', 'arguments': '{\"query\": \"pyramid\"}'}}, response_metadata={'prompt_feedback': {'block_reason': 0, 'safety_ratings': []}, 'finish_reason': 'STOP', 'model_name': 'gemini-2.5-flash', 'safety_ratings': []}, id='run--49e40eaf-89df-4ccd-adbb-30b829354499-0', tool_calls=[{'name': 'wikipedia', 'args': {'query': 'pyramid'}, 'id': '613a6772-c5b7-4248-a375-c8da09528e03', 'type': 'tool_call'}], usage_metadata={'input_tokens': 1696, 'output_tokens': 63, 'total_tokens': 1759, 'input_token_details': {'cache_read': 0}, 'output_token_details': {'reasoning': 49}}), ToolMessage(content='Page: Pyramid\\nSummary: A pyramid (from Ancient Greek  πυραμίς (puramís) \\'pyramid\\', from the Egyptian pir-em-us, the vertical height of the structure.) is a structure whose visible surfaces are triangular in broad outline and converge toward the top, making the appearance roughly a pyramid in the geometric sense. The base of a pyramid can be of any polygon shape, such as triangular or quadrilateral, and its surface-lines either filled or stepped.\\n\\nA pyramid has the majority of its mass closer to the ground with less mass towards the pyramidion at the apex. This is due to the gradual decrease in the cross-sectional area along the vertical axis with increasing elevation. This offers a weight distribution that allowed early civilizations to create monumental structures.Ancient civilizations in many parts of the world pioneered the building of  pyramids. The largest pyramid by volume is the Mesoamerican Great Pyramid of Cholula, in the Mexican state of Puebla. For millennia, the largest structures on Earth were pyramids—first the Red Pyramid in the Dashur Necropolis and then the Great Pyramid of Khufu, both in Egypt—the latter is the only extant example of the Seven Wonders of the Ancient World.\\n\\nPage: Great Pyramid of Giza\\nSummary: The Great Pyramid of Giza is the largest Egyptian pyramid. It served as the tomb of pharaoh Khufu, who ruled during the Fourth Dynasty of the Old Kingdom. Built c.\\u20092600 BC, over a period of about 26 years, the pyramid is the oldest of the Seven Wonders of the Ancient World, and the only wonder that has remained largely intact. It is the most famous monument of the Giza pyramid complex, which is part of the UNESCO World Heritage Site \"Memphis and its Necropolis\". It is situated at the northeastern end of the line of the three main pyramids at Giza.\\nInitially standing at 146.6 metres (481 feet), the Great Pyramid was the world\\'s tallest human-made structure for more than 3,800 years. Over time, most of the smooth white limestone casing was removed, which lowered the pyramid\\'s height to the current 138.5 metres (454.4 ft); what is seen today is the underlying core structure. The base was measured to be about 230.3 metres (755.6 ft) square, giving a volume of roughly 2.6 million cubic metres (92 million cubic feet), which includes an internal hillock. The dimensions of the pyramid were 280 royal cubits (146.7 m; 481.4 ft) high, a base length of 440 cubits (230.6 m; 756.4 ft), with a seked of \\u20605+1/2\\u2060 palms (a slope of 51°50\\'40\").\\nThe Great Pyramid was built by quarrying an estimated 2.3 million large blocks, weighing 6 million tonnes in total. The majority of the stones are not uniform in size or shape, and are only roughly dressed. The outside layers were bound together by mortar. Primarily local limestone from the Giza Plateau was used for its construction. Other blocks were imported by boat on the Nile: white limestone from Tura for the casing, and blocks of granite from Aswan, weighing up to 80 tonnes, for the \"King\\'s Chamber\" structure.\\nThere are three known chambers inside of the Great Pyramid. The lowest was cut into the bedrock, upon which the pyramid was built, but remained unfinished. The so-called Queen\\'s Chamber and King\\'s Chamber, which contain a granite sarcophagus, are above ground, within the pyramid structure. Hemiunu, Khufu\\'s vizier, is believed by some to be the architect of the Great Pyramid. Many varying scientific and alternative hypotheses attempt to explain the exact construction techniques, but, as is the case for other such structures, there is no definite consensus.\\nThe funerary complex around the pyramid consisted of two mortuary temples connected by a causeway (one close to the pyramid and one near the Nile); tombs for the immediate family and court of Khufu, including three smaller pyramids for Khufu\\'s wives; an even smaller \"satellite pyramid\"; and five buried solar barques.\\n\\nPage: Egyptian pyramids\\nSummary: The Egyptian pyramids are ancient masonry structures located in Egypt.', name='wikipedia', id='daa9944e-0c2a-45a5-a325-72b58530479a', tool_call_id='613a6772-c5b7-4248-a375-c8da09528e03'), AIMessage(content='', additional_kwargs={'function_call': {'name': 'write_file', 'arguments': '{\"file_path\": \"pyramid_info.txt\", \"text\": \"Pyramid: A pyramid is a structure whose visible surfaces are triangular in broad outline and converge toward the top, making the appearance roughly a pyramid in the geometric sense. The base of a pyramid can be of any polygon shape. Ancient civilizations in many parts of the world pioneered the building of pyramids. The largest pyramid by volume is the Mesoamerican Great Pyramid of Cholula, in the Mexican state of Puebla. For millennia, the largest structures on Earth were pyramids\\\\u2014first the Red Pyramid in the Dashur Necropolis and then the Great Pyramid of Khufu, both in Egypt.\\\\n\\\\nGreat Pyramid of Giza: The Great Pyramid of Giza is the largest Egyptian pyramid. It served as the tomb of pharaoh Khufu, who ruled during the Fourth Dynasty of the Old Kingdom. Built c. 2600 BC, over a period of about 26 years, the pyramid is the oldest of the Seven Wonders of the Ancient World, and the only wonder that has remained largely intact. Initially standing at 146.6 metres (481 feet), the Great Pyramid was the world\\'s tallest human-made structure for more than 3,800 years. The Great Pyramid was built by quarrying an estimated 2.3 million large blocks, weighing 6 million tonnes in total. There are three known chambers inside of the Great Pyramid. The funerary complex around the pyramid consisted of two mortuary temples connected by a causeway; tombs for the immediate family and court of Khufu, including three smaller pyramids for Khufu\\'s wives; an even smaller \\\\\"satellite pyramid\\\\\"; and five buried solar barques.\"}'}}, response_metadata={'prompt_feedback': {'block_reason': 0, 'safety_ratings': []}, 'finish_reason': 'STOP', 'model_name': 'gemini-2.5-flash', 'safety_ratings': []}, id='run--4d4e2812-b668-4cc5-b2a1-f0bff508f82a-0', tool_calls=[{'name': 'write_file', 'args': {'file_path': 'pyramid_info.txt', 'text': 'Pyramid: A pyramid is a structure whose visible surfaces are triangular in broad outline and converge toward the top, making the appearance roughly a pyramid in the geometric sense. The base of a pyramid can be of any polygon shape. Ancient civilizations in many parts of the world pioneered the building of pyramids. The largest pyramid by volume is the Mesoamerican Great Pyramid of Cholula, in the Mexican state of Puebla. For millennia, the largest structures on Earth were pyramids—first the Red Pyramid in the Dashur Necropolis and then the Great Pyramid of Khufu, both in Egypt.\\n\\nGreat Pyramid of Giza: The Great Pyramid of Giza is the largest Egyptian pyramid. It served as the tomb of pharaoh Khufu, who ruled during the Fourth Dynasty of the Old Kingdom. Built c. 2600 BC, over a period of about 26 years, the pyramid is the oldest of the Seven Wonders of the Ancient World, and the only wonder that has remained largely intact. Initially standing at 146.6 metres (481 feet), the Great Pyramid was the world\\'s tallest human-made structure for more than 3,800 years. The Great Pyramid was built by quarrying an estimated 2.3 million large blocks, weighing 6 million tonnes in total. There are three known chambers inside of the Great Pyramid. The funerary complex around the pyramid consisted of two mortuary temples connected by a causeway; tombs for the immediate family and court of Khufu, including three smaller pyramids for Khufu\\'s wives; an even smaller \"satellite pyramid\"; and five buried solar barques.'}, 'id': 'ecd0eed6-7d18-4563-a1ba-730208ff2a72', 'type': 'tool_call'}], usage_metadata={'input_tokens': 2658, 'output_tokens': 443, 'total_tokens': 3101, 'input_token_details': {'cache_read': 0}, 'output_token_details': {'reasoning': 84}}), ToolMessage(content=\"Error: ValueError('Unsupported interrupt response type: cancel')\\n Please fix your mistakes.\", name='write_file', id='62f23f96-304c-4e7d-b237-45f422b0af94', tool_call_id='ecd0eed6-7d18-4563-a1ba-730208ff2a72', status='error'), AIMessage(content='', additional_kwargs={'function_call': {'name': 'write_file', 'arguments': '{\"file_path\": \"pyramid_info.txt\", \"text\": \"Pyramid: A pyramid is a structure whose visible surfaces are triangular in broad outline and converge toward the top, making the appearance roughly a pyramid in the geometric sense. The base of a pyramid can be of any polygon shape. Ancient civilizations in many parts of the world pioneered the building of pyramids. The largest pyramid by volume is the Mesoamerican Great Pyramid of Cholula, in the Mexican state of Puebla. For millennia, the largest structures on Earth were pyramids\\\\u2014first the Red Pyramid in the Dashur Necropolis and then the Great Pyramid of Khufu, both in Egypt.\\\\n\\\\nGreat Pyramid of Giza: The Great Pyramid of Giza is the largest Egyptian pyramid. It served as the tomb of pharaoh Khufu, who ruled during the Fourth Dynasty of the Old Kingdom. Built c. 2600 BC, over a period of about 26 years, the pyramid is the oldest of the Seven Wonders of the Ancient World, and the only wonder that has remained largely intact. Initially standing at 146.6 metres (481 feet), the Great Pyramid was the world\\'s tallest human-made structure for more than 3,800 years. The Great Pyramid was built by quarrying an estimated 2.3 million large blocks, weighing 6 million tonnes in total. There are three known chambers inside of the Great Pyramid. The funerary complex around the pyramid consisted of two mortuary temples connected by a causeway; tombs for the immediate family and court of Khufu, including three smaller pyramids for Khufu\\'s wives; an even smaller \\\\\"satellite pyramid\\\\\"; and five buried solar barques.\"}'}}, response_metadata={'prompt_feedback': {'block_reason': 0, 'safety_ratings': []}, 'finish_reason': 'STOP', 'model_name': 'gemini-2.5-flash', 'safety_ratings': []}, id='run--362bb830-7024-4716-bfd5-68a2c176acce-0', tool_calls=[{'name': 'write_file', 'args': {'file_path': 'pyramid_info.txt', 'text': 'Pyramid: A pyramid is a structure whose visible surfaces are triangular in broad outline and converge toward the top, making the appearance roughly a pyramid in the geometric sense. The base of a pyramid can be of any polygon shape. Ancient civilizations in many parts of the world pioneered the building of pyramids. The largest pyramid by volume is the Mesoamerican Great Pyramid of Cholula, in the Mexican state of Puebla. For millennia, the largest structures on Earth were pyramids—first the Red Pyramid in the Dashur Necropolis and then the Great Pyramid of Khufu, both in Egypt.\\n\\nGreat Pyramid of Giza: The Great Pyramid of Giza is the largest Egyptian pyramid. It served as the tomb of pharaoh Khufu, who ruled during the Fourth Dynasty of the Old Kingdom. Built c. 2600 BC, over a period of about 26 years, the pyramid is the oldest of the Seven Wonders of the Ancient World, and the only wonder that has remained largely intact. Initially standing at 146.6 metres (481 feet), the Great Pyramid was the world\\'s tallest human-made structure for more than 3,800 years. The Great Pyramid was built by quarrying an estimated 2.3 million large blocks, weighing 6 million tonnes in total. There are three known chambers inside of the Great Pyramid. The funerary complex around the pyramid consisted of two mortuary temples connected by a causeway; tombs for the immediate family and court of Khufu, including three smaller pyramids for Khufu\\'s wives; an even smaller \"satellite pyramid\"; and five buried solar barques.'}, 'id': 'd092d5b0-3d7b-4080-976d-323f0c69e8bb', 'type': 'tool_call'}], usage_metadata={'input_tokens': 3051, 'output_tokens': 466, 'total_tokens': 3517, 'input_token_details': {'cache_read': 2684}, 'output_token_details': {'reasoning': 107}})]}, next=('tools',), config={'configurable': {'thread_id': '9550', 'checkpoint_ns': '', 'checkpoint_id': '1f08324c-e5d1-69b0-8005-e79030793f77'}}, metadata={'source': 'loop', 'step': 5, 'parents': {}}, created_at='2025-08-27T09:04:15.275460+00:00', parent_config={'configurable': {'thread_id': '9550', 'checkpoint_ns': '', 'checkpoint_id': '1f08324c-c650-6bb5-8004-b4fd6ac11b02'}}, tasks=(PregelTask(id='443e2efb-43ee-3ed3-8d0b-973e7ad4f601', name='tools', path=('__pregel_pull', 'tools'), error=None, interrupts=(Interrupt(value=[{'action_request': {'action': 'write_file', 'args': {'file_path': 'pyramid_info.txt', 'text': 'Pyramid: A pyramid is a structure whose visible surfaces are triangular in broad outline and converge toward the top, making the appearance roughly a pyramid in the geometric sense. The base of a pyramid can be of any polygon shape. Ancient civilizations in many parts of the world pioneered the building of pyramids. The largest pyramid by volume is the Mesoamerican Great Pyramid of Cholula, in the Mexican state of Puebla. For millennia, the largest structures on Earth were pyramids—first the Red Pyramid in the Dashur Necropolis and then the Great Pyramid of Khufu, both in Egypt.\\n\\nGreat Pyramid of Giza: The Great Pyramid of Giza is the largest Egyptian pyramid. It served as the tomb of pharaoh Khufu, who ruled during the Fourth Dynasty of the Old Kingdom. Built c. 2600 BC, over a period of about 26 years, the pyramid is the oldest of the Seven Wonders of the Ancient World, and the only wonder that has remained largely intact. Initially standing at 146.6 metres (481 feet), the Great Pyramid was the world\\'s tallest human-made structure for more than 3,800 years. The Great Pyramid was built by quarrying an estimated 2.3 million large blocks, weighing 6 million tonnes in total. There are three known chambers inside of the Great Pyramid. The funerary complex around the pyramid consisted of two mortuary temples connected by a causeway; tombs for the immediate family and court of Khufu, including three smaller pyramids for Khufu\\'s wives; an even smaller \"satellite pyramid\"; and five buried solar barques.'}}, 'config': {'allow_accept': True, 'allow_edit': True, 'allow_respond': True}, 'description': 'Please review the tool call'}], id='203e8b26e132ac7a67598b4a48c3da77'),), state=None, result=None),), interrupts=(Interrupt(value=[{'action_request': {'action': 'write_file', 'args': {'file_path': 'pyramid_info.txt', 'text': 'Pyramid: A pyramid is a structure whose visible surfaces are triangular in broad outline and converge toward the top, making the appearance roughly a pyramid in the geometric sense. The base of a pyramid can be of any polygon shape. Ancient civilizations in many parts of the world pioneered the building of pyramids. The largest pyramid by volume is the Mesoamerican Great Pyramid of Cholula, in the Mexican state of Puebla. For millennia, the largest structures on Earth were pyramids—first the Red Pyramid in the Dashur Necropolis and then the Great Pyramid of Khufu, both in Egypt.\\n\\nGreat Pyramid of Giza: The Great Pyramid of Giza is the largest Egyptian pyramid. It served as the tomb of pharaoh Khufu, who ruled during the Fourth Dynasty of the Old Kingdom. Built c. 2600 BC, over a period of about 26 years, the pyramid is the oldest of the Seven Wonders of the Ancient World, and the only wonder that has remained largely intact. Initially standing at 146.6 metres (481 feet), the Great Pyramid was the world\\'s tallest human-made structure for more than 3,800 years. The Great Pyramid was built by quarrying an estimated 2.3 million large blocks, weighing 6 million tonnes in total. There are three known chambers inside of the Great Pyramid. The funerary complex around the pyramid consisted of two mortuary temples connected by a causeway; tombs for the immediate family and court of Khufu, including three smaller pyramids for Khufu\\'s wives; an even smaller \"satellite pyramid\"; and five buried solar barques.'}}, 'config': {'allow_accept': True, 'allow_edit': True, 'allow_respond': True}, 'description': 'Please review the tool call'}], id='203e8b26e132ac7a67598b4a48c3da77'),))"
      ]
     },
     "execution_count": 24,
     "metadata": {},
     "output_type": "execute_result"
    }
   ],
   "source": [
    "graph.get_state(config)"
   ]
  },
  {
   "cell_type": "code",
   "execution_count": null,
   "id": "53f04ad9",
   "metadata": {},
   "outputs": [],
   "source": []
  }
 ],
 "metadata": {
  "kernelspec": {
   "display_name": "myenv (3.12.4)",
   "language": "python",
   "name": "python3"
  },
  "language_info": {
   "codemirror_mode": {
    "name": "ipython",
    "version": 3
   },
   "file_extension": ".py",
   "mimetype": "text/x-python",
   "name": "python",
   "nbconvert_exporter": "python",
   "pygments_lexer": "ipython3",
   "version": "3.12.4"
  }
 },
 "nbformat": 4,
 "nbformat_minor": 5
}
