{
 "cells": [
  {
   "cell_type": "code",
   "execution_count": 27,
   "id": "2332a3ec",
   "metadata": {},
   "outputs": [],
   "source": [
    "from langchain_google_genai import ChatGoogleGenerativeAI\n",
    "from langgraph.graph import StateGraph,START,END\n",
    "from langchain_core.tools import tool\n",
    "from typing import TypedDict,Annotated\n",
    "from langgraph.prebuilt import ToolNode,tools_condition\n",
    "from langchain_core.messages import HumanMessage,BaseMessage\n",
    "from langgraph.graph.message import add_messages\n",
    "from dotenv import load_dotenv\n",
    "from langchain_core.messages import HumanMessage,AIMessage,SystemMessage\n",
    "from langchain_core.prompts import ChatPromptTemplate, MessagesPlaceholder\n"
   ]
  },
  {
   "cell_type": "code",
   "execution_count": 19,
   "id": "7bf7736f",
   "metadata": {},
   "outputs": [
    {
     "data": {
      "text/plain": [
       "True"
      ]
     },
     "execution_count": 19,
     "metadata": {},
     "output_type": "execute_result"
    }
   ],
   "source": [
    "load_dotenv()"
   ]
  },
  {
   "cell_type": "code",
   "execution_count": 20,
   "id": "cce21f71",
   "metadata": {},
   "outputs": [],
   "source": [
    "# web search tool \n",
    "from langchain_tavily import TavilySearch\n",
    "web_search_tool = TavilySearch(max_results=2)"
   ]
  },
  {
   "cell_type": "code",
   "execution_count": 3,
   "id": "9628b7ff",
   "metadata": {},
   "outputs": [],
   "source": [
    "# File management tool\n",
    "from langchain_community.agent_toolkits import FileManagementToolkit\n",
    "\n",
    "working_directory = './files'\n",
    "\n",
    "file_management_tools =FileManagementToolkit(\n",
    "    root_dir=str(working_directory),\n",
    "    selected_tools=[\"read_file\", \"write_file\", \"list_directory\"]\n",
    ").get_tools()\n",
    "\n",
    "\n",
    "read_tool, write_tool, list_tool = file_management_tools"
   ]
  },
  {
   "cell_type": "code",
   "execution_count": 4,
   "id": "5f073efb",
   "metadata": {},
   "outputs": [
    {
     "data": {
      "text/plain": [
       "'File written successfully to example.txt.'"
      ]
     },
     "execution_count": 4,
     "metadata": {},
     "output_type": "execute_result"
    }
   ],
   "source": [
    "write_tool.invoke({\"file_path\": \"example.txt\", \"text\": \"Hello World!\"})"
   ]
  },
  {
   "cell_type": "code",
   "execution_count": 5,
   "id": "f4f1228f",
   "metadata": {},
   "outputs": [
    {
     "data": {
      "text/plain": [
       "'example.txt'"
      ]
     },
     "execution_count": 5,
     "metadata": {},
     "output_type": "execute_result"
    }
   ],
   "source": [
    "# List files in the working directory\n",
    "list_tool.invoke({})"
   ]
  },
  {
   "cell_type": "code",
   "execution_count": 6,
   "id": "a99be37f",
   "metadata": {},
   "outputs": [
    {
     "data": {
      "text/plain": [
       "'Hello World!'"
      ]
     },
     "execution_count": 6,
     "metadata": {},
     "output_type": "execute_result"
    }
   ],
   "source": [
    "read_tool.invoke(input='example.txt')"
   ]
  },
  {
   "cell_type": "code",
   "execution_count": 8,
   "id": "a5d45ee7",
   "metadata": {},
   "outputs": [],
   "source": [
    "#arxiv\n",
    "import arxiv\n",
    "\n",
    "@tool(\"arxiv_search\")\n",
    "def arxiv_search(query: str,max_results: int = 5) -> str:\n",
    "    \"\"\"\n",
    "    Searches arXiv for papers matching the query.\n",
    "    - query: keywords, authors or title\n",
    "    - max_results: number of papers to return\n",
    "    \"\"\"\n",
    "    try:\n",
    "        search = arxiv.Search(\n",
    "            query=query,\n",
    "            max_results=max_results,\n",
    "            sort_by=arxiv.SortCriterion.Relevance\n",
    "        )\n",
    "        papers = []\n",
    "        for result in search.results():\n",
    "            pdf_url = result.pdf_url if hasattr(result,\"pdf_url\") else result.entry_id.replace(\"abs\",\"pdf\")\n",
    "            papers.append(\n",
    "                f\"Title: {result.title}\\n\"\n",
    "                f\"Authors: {','.join(a.name for a in result.authors)}\\n\"\n",
    "                f'Published: {result.published.date()}\\n'\n",
    "                f\"Abstract: {result.summary.strip()}\\n\"\n",
    "                f\"Link: {result.entry_id}\\n\"\n",
    "                f\"PDF: {pdf_url}\\n\"\n",
    "                + \"-\"*80\n",
    "\n",
    "            )\n",
    "        if not papers:\n",
    "            return f\"No results found for '{query}\"\n",
    "        return \"\\n\".join(papers)\n",
    "    except Exception as e:\n",
    "        return f\"Error during arXiv search: {e}\"\n",
    "    \n",
    "\n"
   ]
  },
  {
   "cell_type": "code",
   "execution_count": 9,
   "id": "4bee6a4c",
   "metadata": {},
   "outputs": [
    {
     "name": "stderr",
     "output_type": "stream",
     "text": [
      "C:\\Users\\JunaidKhan\\AppData\\Local\\Temp\\ipykernel_25964\\2627632007.py:1: LangChainDeprecationWarning: The method `BaseTool.__call__` was deprecated in langchain-core 0.1.47 and will be removed in 1.0. Use :meth:`~invoke` instead.\n",
      "  result = arxiv_search(\"Quantum Machine Learning\")\n",
      "C:\\Users\\JunaidKhan\\AppData\\Local\\Temp\\ipykernel_25964\\2323917343.py:18: DeprecationWarning: The 'Search.results' method is deprecated, use 'Client.results' instead\n",
      "  for result in search.results():\n"
     ]
    }
   ],
   "source": [
    "result = arxiv_search(\"Quantum Machine Learning\")"
   ]
  },
  {
   "cell_type": "code",
   "execution_count": 13,
   "id": "be0cb395",
   "metadata": {},
   "outputs": [],
   "source": [
    "#wikipedia\n",
    "from langchain_community.tools import WikipediaQueryRun\n",
    "from langchain_community.utilities import WikipediaAPIWrapper\n",
    "wikipedia_tool = WikipediaQueryRun(api_wrapper=WikipediaAPIWrapper(load_all_available_meta=True))"
   ]
  },
  {
   "cell_type": "code",
   "execution_count": 67,
   "id": "fa930a5d",
   "metadata": {},
   "outputs": [],
   "source": [
    "#youtube\n",
    "from langchain_community.tools import YouTubeSearchTool\n",
    "youtube_tool = YouTubeSearchTool()"
   ]
  },
  {
   "cell_type": "code",
   "execution_count": 21,
   "id": "243a1f68",
   "metadata": {},
   "outputs": [],
   "source": [
    "# tools\n",
    "tools = [arxiv_search,wikipedia_tool,youtube_tool,read_tool, write_tool, list_tool,web_search_tool]"
   ]
  },
  {
   "cell_type": "code",
   "execution_count": 23,
   "id": "be4a34ae",
   "metadata": {},
   "outputs": [],
   "source": [
    "#llm\n",
    "llm = ChatGoogleGenerativeAI(model = 'gemini-2.5-flash')\n",
    "llm_with_tools = llm.bind_tools(tools)\n"
   ]
  },
  {
   "cell_type": "markdown",
   "id": "d93797cc",
   "metadata": {},
   "source": [
    "GRAPH BUILDING"
   ]
  },
  {
   "cell_type": "code",
   "execution_count": 24,
   "id": "52228cf1",
   "metadata": {},
   "outputs": [],
   "source": [
    "class State(TypedDict):\n",
    "    messages : Annotated[list[BaseMessage],add_messages]"
   ]
  },
  {
   "cell_type": "code",
   "execution_count": 83,
   "id": "a749d42c",
   "metadata": {},
   "outputs": [
    {
     "data": {
      "text/plain": [
       "'arxiv_search,wikipedia,youtube_search,read_file,write_file,list_directory,tavily_search'"
      ]
     },
     "execution_count": 83,
     "metadata": {},
     "output_type": "execute_result"
    }
   ],
   "source": [
    "tool_name  = \",\".join(tool.name for tool in tools)\n",
    "tool_name"
   ]
  },
  {
   "cell_type": "code",
   "execution_count": 89,
   "id": "4396770e",
   "metadata": {},
   "outputs": [
    {
     "name": "stdout",
     "output_type": "stream",
     "text": [
      "Searches arXiv for papers matching the query.\n",
      "- query: keywords, authors or title\n",
      "- max_results: number of papers to return\n",
      "*A wrapper around Wikipedia. Useful for when you need to answer general questions about people, places, companies, facts, historical events, or other subjects. Input should be a search query.\n",
      "*search for youtube videos associated with a person. the input to this tool should be a comma separated list, the first part contains a person name and the second a number that is the maximum number of video results to return aka num_results. the second part is optional\n",
      "*Read file from disk\n",
      "*Write file to disk\n",
      "*List files and directories in a specified folder\n",
      "*A search engine optimized for comprehensive, accurate, and trusted results. Useful for when you need to answer questions about current events. It not only retrieves URLs and snippets, but offers advanced search depths, domain management, time range filters, and image search, this tool delivers real-time, accurate, and citation-backed results.Input should be a search query.\n"
     ]
    }
   ],
   "source": [
    "tool_desc  = \"\\n*\".join(tool.description for tool in tools)\n",
    "print(tool_desc)"
   ]
  },
  {
   "cell_type": "code",
   "execution_count": 112,
   "id": "17e79e2f",
   "metadata": {},
   "outputs": [],
   "source": [
    "system_prompt = \"\"\" \n",
    "You are a reasoning agent that uses tools to answer questions.\n",
    "You must always follow the Thought → Action → Action Input → Observation loop.\n",
    "\n",
    "\"\"\""
   ]
  },
  {
   "cell_type": "code",
   "execution_count": 113,
   "id": "aa66dd38",
   "metadata": {},
   "outputs": [],
   "source": [
    "def planner_node(state):\n",
    "    user_query = state['messages']\n",
    "\n",
    "    planner_prompt = ChatPromptTemplate([\n",
    "        ('system',system_prompt),\n",
    "        MessagesPlaceholder(variable_name='messages')\n",
    "    ])\n",
    "\n",
    "    planner = planner_prompt | llm_with_tools\n",
    "    result = planner.invoke({'messages': state['messages']})\n",
    "    print(result)\n",
    "\n",
    "    return ({'messages':result}) \n",
    "    "
   ]
  },
  {
   "cell_type": "code",
   "execution_count": 114,
   "id": "772b7662",
   "metadata": {},
   "outputs": [],
   "source": [
    "graph = StateGraph(State)\n",
    "tool_node = ToolNode(tools)\n",
    "graph.add_node('planner_node',planner_node)\n",
    "graph.add_node('tools',tool_node)\n",
    "\n",
    "graph.add_edge(START,'planner_node')\n",
    "graph.add_conditional_edges('planner_node',tools_condition)\n",
    "graph.add_edge('tools','planner_node')\n",
    "graph = graph.compile()"
   ]
  },
  {
   "cell_type": "code",
   "execution_count": 115,
   "id": "abe89fd9",
   "metadata": {},
   "outputs": [
    {
     "data": {
      "image/png": "[encoded data removed]",
      "text/plain": [
       "<IPython.core.display.Image object>"
      ]
     },
     "metadata": {},
     "output_type": "display_data"
    }
   ],
   "source": [
    "from IPython.display import Image, display\n",
    "\n",
    "display(Image(graph.get_graph().draw_mermaid_png()))"
   ]
  },
  {
   "cell_type": "code",
   "execution_count": 122,
   "id": "d733a07d",
   "metadata": {},
   "outputs": [],
   "source": [
    "initial_state = {\n",
    "    \"messages\": [HumanMessage(content=\"who is sachin tendulkar? show some of his best innings highlight and save those links for further use\")]\n",
    "}"
   ]
  },
  {
   "cell_type": "code",
   "execution_count": 123,
   "id": "23044bf5",
   "metadata": {},
   "outputs": [
    {
     "name": "stdout",
     "output_type": "stream",
     "text": [
      "content='' additional_kwargs={'function_call': {'name': 'wikipedia', 'arguments': '{\"query\": \"Sachin Tendulkar\"}'}} response_metadata={'prompt_feedback': {'block_reason': 0, 'safety_ratings': []}, 'finish_reason': 'STOP', 'model_name': 'gemini-2.5-flash', 'safety_ratings': []} id='run--cac4c481-9f48-4bba-ad15-1096d888ce67-0' tool_calls=[{'name': 'wikipedia', 'args': {'query': 'Sachin Tendulkar'}, 'id': '7aa35aa8-fe9f-4095-bb47-2586f41f8ec9', 'type': 'tool_call'}] usage_metadata={'input_tokens': 1704, 'output_tokens': 89, 'total_tokens': 1793, 'input_token_details': {'cache_read': 0}, 'output_token_details': {'reasoning': 74}}\n",
      "content='' additional_kwargs={'function_call': {'name': 'youtube_search', 'arguments': '{\"query\": \"Sachin Tendulkar best innings highlights, 5\"}'}} response_metadata={'prompt_feedback': {'block_reason': 0, 'safety_ratings': []}, 'finish_reason': 'STOP', 'model_name': 'gemini-2.5-flash', 'safety_ratings': []} id='run--99dd71e9-fc71-4f2d-b3cf-f96e9ff0cc70-0' tool_calls=[{'name': 'youtube_search', 'args': {'query': 'Sachin Tendulkar best innings highlights, 5'}, 'id': '28199528-1292-496a-9aeb-15ea3291f294', 'type': 'tool_call'}] usage_metadata={'input_tokens': 2693, 'output_tokens': 163, 'total_tokens': 2856, 'input_token_details': {'cache_read': 0}, 'output_token_details': {'reasoning': 140}}\n",
      "content='' additional_kwargs={'function_call': {'name': 'tavily_search', 'arguments': '{\"query\": \"Sachin Tendulkar best innings highlights youtube links\", \"max_results\": 5.0}'}} response_metadata={'prompt_feedback': {'block_reason': 0, 'safety_ratings': []}, 'finish_reason': 'STOP', 'model_name': 'gemini-2.5-flash', 'safety_ratings': []} id='run--e93fbe50-45f3-4a4f-b692-49ac51c38dac-0' tool_calls=[{'name': 'tavily_search', 'args': {'query': 'Sachin Tendulkar best innings highlights youtube links', 'max_results': 5.0}, 'id': 'a8cdf8ea-d140-4972-94f3-ffafa67b8e44', 'type': 'tool_call'}] usage_metadata={'input_tokens': 2752, 'output_tokens': 77, 'total_tokens': 2829, 'input_token_details': {'cache_read': 0}, 'output_token_details': {'reasoning': 46}}\n",
      "content=\"Sachin Tendulkar is an Indian former international cricketer, widely regarded as one of the greatest cricketers of all time. He holds numerous world records, including being the highest run-scorer in both ODI and Test cricket, and the only batsman to score 100 international centuries. He was part of the Indian team that won the 2011 Cricket World Cup.\\n\\nHere are some YouTube links for his best innings highlights:\\n\\n*   Sachin Tendulkar's Sublime Innings That Sealed the...: https://www.youtube.com/watch?v=KQYzIBZT1DQ\\n*   Tendulkar has rated his match winning innings in the final...: https://www.youtube.com/watch?v=A98J0-C_IpQ\\n\\nI will save these links for your future use.\" additional_kwargs={'function_call': {'name': 'write_file', 'arguments': '{\"file_path\": \"sachin_tendulkar_highlights.txt\", \"text\": \"Sachin Tendulkar\\'s Sublime Innings That Sealed the...: https://www.youtube.com/watch?v=KQYzIBZT1DQ\\\\nTendulkar has rated his match winning innings in the final...: https://www.youtube.com/watch?v=A98J0-C_IpQ\"}'}} response_metadata={'prompt_feedback': {'block_reason': 0, 'safety_ratings': []}, 'finish_reason': 'STOP', 'model_name': 'gemini-2.5-flash', 'safety_ratings': []} id='run--f6251567-2a49-47a2-9434-b161bf536553-0' tool_calls=[{'name': 'write_file', 'args': {'file_path': 'sachin_tendulkar_highlights.txt', 'text': \"Sachin Tendulkar's Sublime Innings That Sealed the...: https://www.youtube.com/watch?v=KQYzIBZT1DQ\\nTendulkar has rated his match winning innings in the final...: https://www.youtube.com/watch?v=A98J0-C_IpQ\"}, 'id': '9122b269-d403-445b-b7ec-48454b06ba17', 'type': 'tool_call'}] usage_metadata={'input_tokens': 3234, 'output_tokens': 298, 'total_tokens': 3532, 'input_token_details': {'cache_read': 0}, 'output_token_details': {'reasoning': 31}}\n",
      "content='Sachin Tendulkar is an Indian former international cricketer, widely regarded as one of the greatest cricketers of all time. He holds numerous world records, including being the all-time highest run-scorer in both ODI and Test cricket, and is the only batsman to have scored 100 international centuries. He represented India for over 24 years, making his Test debut at the age of sixteen. Tendulkar was also part of the Indian team that won the 2011 Cricket World Cup. He has received several awards from the Indian government, including the Bharat Ratna, India\\'s highest civilian award.\\n\\nHere are some YouTube links to his best innings highlights, which have been saved to \"sachin_tendulkar_highlights.txt\" for your future reference:\\n\\n*   Sachin Tendulkar\\'s Sublime Innings That Sealed the...: https://www.youtube.com/watch?v=KQYzIBZT1DQ\\n*   Tendulkar has rated his match winning innings in the final...: https://www.youtube.com/watch?v=A98J0-C_IpQ' additional_kwargs={} response_metadata={'prompt_feedback': {'block_reason': 0, 'safety_ratings': []}, 'finish_reason': 'STOP', 'model_name': 'gemini-2.5-flash', 'safety_ratings': []} id='run--bd55b587-56b0-475a-800a-7b9fc00b67bd-0' usage_metadata={'input_tokens': 3360, 'output_tokens': 229, 'total_tokens': 3589, 'input_token_details': {'cache_read': 0}}\n"
     ]
    }
   ],
   "source": [
    "result =  graph.invoke(initial_state)"
   ]
  },
  {
   "cell_type": "code",
   "execution_count": 121,
   "id": "89815fd7",
   "metadata": {},
   "outputs": [
    {
     "name": "stdout",
     "output_type": "stream",
     "text": [
      "Sachin Ramesh Tendulkar is an Indian former international cricketer who is widely regarded as one of the greatest cricketers of all time. He holds several world records, including being the all-time highest run-scorer in both ODI and Test cricket, and is the only batsman to score 100 international centuries. He represented Mumbai domestically and India internationally for over 24 years, making his Test debut at the age of sixteen. Tendulkar was part of the Indian team that won the 2011 Cricket World Cup and was named \"Player of the Tournament\" at the 2003 World Cup. He has received numerous awards from the Indian government, including the Bharat Ratna, India's highest civilian award. He retired from all forms of cricket in November 2013 after playing his 200th Test match.\n",
      "\n",
      "Here are some highlights of his best innings:\n",
      "*   **Sachin Tendulkar's Masterful 162* vs New Zealand**: https://www.dailymotion.com/video/x94px9a\n",
      "*   **Tendulkar has rated his match winning innings in the final match**: https://www.youtube.com/watch?v=A98J0-C_IpQ\n"
     ]
    }
   ],
   "source": [
    "print(result['messages'][-1].content)"
   ]
  },
  {
   "cell_type": "code",
   "execution_count": null,
   "id": "8a99fbe7",
   "metadata": {},
   "outputs": [],
   "source": []
  }
 ],
 "metadata": {
  "kernelspec": {
   "display_name": "myenv (3.12.4)",
   "language": "python",
   "name": "python3"
  },
  "language_info": {
   "codemirror_mode": {
    "name": "ipython",
    "version": 3
   },
   "file_extension": ".py",
   "mimetype": "text/x-python",
   "name": "python",
   "nbconvert_exporter": "python",
   "pygments_lexer": "ipython3",
   "version": "3.12.4"
  }
 },
 "nbformat": 4,
 "nbformat_minor": 5
}
